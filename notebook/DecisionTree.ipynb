{
 "cells": [
  {
   "cell_type": "code",
   "execution_count": 2,
   "metadata": {
    "collapsed": true
   },
   "outputs": [],
   "source": [
    "import numpy as np\n",
    "import scipy.io as sio\n",
    "import matplotlib.pyplot as plt\n",
    "from PIL import Image, ImageDraw\n",
    "from math import log2\n",
    "%matplotlib inline"
   ]
  },
  {
   "cell_type": "markdown",
   "metadata": {},
   "source": [
    "Loading Data and some utility functions"
   ]
  },
  {
   "cell_type": "code",
   "execution_count": 3,
   "metadata": {
    "collapsed": false
   },
   "outputs": [],
   "source": [
    "def load_clean_data():\n",
    "    data = sio.loadmat('cleandata_students.mat')\n",
    "    return data['x'], data['y']\n",
    "\n",
    "def load_noisy_data():\n",
    "    data = sio.loadmat('noisydata_students.mat')\n",
    "    return data['x'], data['y']"
   ]
  },
  {
   "cell_type": "code",
   "execution_count": 4,
   "metadata": {
    "collapsed": true
   },
   "outputs": [],
   "source": [
    "EMOTIONS = ['anger', 'disgust', 'fear', 'happiness', 'sadness', 'surprise']\n",
    "\n",
    "def label_to_string(label):\n",
    "    if label == 1:\n",
    "        return 'anger'\n",
    "    elif label == 2:\n",
    "        return 'disgust'\n",
    "    elif label == 3:\n",
    "        return 'fear'\n",
    "    elif label == 4:\n",
    "        return 'happiness'\n",
    "    elif label == 5:\n",
    "        return 'sadness'\n",
    "    elif label == 6:\n",
    "        return 'surprise'\n",
    "    else:\n",
    "        return 'Unknown emotion label'\n",
    "\n",
    "def string_to_label(s):\n",
    "    if s == 'anger':\n",
    "        return 1\n",
    "    elif s == 'disgust':\n",
    "        return 2\n",
    "    elif s == 'fear':\n",
    "        return 3\n",
    "    elif s == 'happiness':\n",
    "        return 4\n",
    "    elif s == 'sadness':\n",
    "        return 5\n",
    "    elif s == 'surprise':\n",
    "        return 6\n",
    "    else:\n",
    "        return -1"
   ]
  },
  {
   "cell_type": "code",
   "execution_count": 5,
   "metadata": {
    "collapsed": true
   },
   "outputs": [],
   "source": [
    "# turns targets into binary targets depending on the emotion\n",
    "# the values are of bool type, but it's ok because False == 0 and True ==0\n",
    "def to_binary_targets(targets, emotion):\n",
    "    if isinstance(emotion, str):\n",
    "        emotion = string_to_label(emotion)\n",
    "    return (targets == emotion).astype(int)\n",
    "\n",
    "#Checking if binary targets contain of one value (point uniquely to answer)\n",
    "def all_the_same(bin_targets):\n",
    "    return np.all(bin_targets == bin_targets[0])\n",
    "\n",
    "#Returning majority value of binary targets\n",
    "def majority_value(bin_targets):\n",
    "    if np.sum(bin_targets) > (bin_targets.size/2):\n",
    "        return 1\n",
    "    return 0\n",
    "\n",
    "#Calculates recall on single tree\n",
    "def calculate_recall(tree, examples, binary_targets):\n",
    "    counter=0\n",
    "    for index in range(0,examples.shape[0]):\n",
    "        if classify(tree,examples[index],0)[0]==binary_targets[index]:\n",
    "            counter+=1\n",
    "    return counter/examples.shape[0]"
   ]
  },
  {
   "cell_type": "markdown",
   "metadata": {},
   "source": [
    "Decision Tree class"
   ]
  },
  {
   "cell_type": "code",
   "execution_count": 6,
   "metadata": {
    "collapsed": false
   },
   "outputs": [],
   "source": [
    "class Tree:\n",
    "    def __init__(self, op=None, kids=[], classification=None, pos=None, neg=None):\n",
    "        self.op = op\n",
    "        self.kids = kids\n",
    "        self.classification = classification   # tree.class from the specs, but class is a keyword\n",
    "        self.pos = pos\n",
    "        self.neg = neg\n",
    "    def is_leaf(self):\n",
    "        return (self.classification != None)\n",
    "    def count_leaves(self):\n",
    "        if self.is_leaf():\n",
    "            return 1\n",
    "        else:\n",
    "            return self.kids[0].count_leaves() + self.kids[1].count_leaves()\n",
    "\n",
    "def prune_tree(tree, validation_examples, binary_targets):\n",
    "    return prune_tree_aux(tree, tree, validation_examples, binary_targets)\n",
    "\n",
    "def prune_tree_aux(tree, node, validation_examples, binary_targets):\n",
    "    if not node.kids: # it's a leaf\n",
    "        return node\n",
    "    node.kids[0] = prune_tree_aux(tree, node.kids[0], validation_examples, binary_targets)\n",
    "    node.kids[1] = prune_tree_aux(tree, node.kids[1], validation_examples, binary_targets)\n",
    "    if node.kids[0].is_leaf() and node.kids[1].is_leaf():\n",
    "        initial_recall = calculate_recall(tree, validation_examples, binary_targets)\n",
    "        temp_kids = node.kids\n",
    "        temp_op = node.op\n",
    "        node.op = None\n",
    "        node.kids = []\n",
    "        \n",
    "        if node.pos > node.neg:\n",
    "            node.classification = 1\n",
    "        else:\n",
    "            node.classification = 0\n",
    "        end_recall = calculate_recall(tree, validation_examples, binary_targets)\n",
    "        \n",
    "        if end_recall < initial_recall:\n",
    "            node.classification = None\n",
    "            node.kids = temp_kids\n",
    "            node.op = temp_op\n",
    "    return node"
   ]
  },
  {
   "cell_type": "code",
   "execution_count": 7,
   "metadata": {
    "collapsed": true
   },
   "outputs": [],
   "source": [
    "#Calculating entropy\n",
    "def entropy(p, n):\n",
    "    from math import log\n",
    "    if p+n == 0: return 0\n",
    "    a = p/(p+n)\n",
    "    b = n/(p+n)\n",
    "    log2 = lambda x: log(x)/log(2)\n",
    "    if a == 0 or b == 0:\n",
    "        return 0\n",
    "    return (-a*log2(a)-b*log2(b))\n",
    "\n",
    "\n",
    "#Performing IG calculation for given attribute\n",
    "def attribute_calculation(examples, index, binary_targets):\n",
    "    p0, n0, p1, n1 = 0, 0, 0, 0\n",
    "    for x in range(0, binary_targets.size):\n",
    "        if binary_targets[x] == 0:\n",
    "            if examples[x][index] == 1:\n",
    "                n1 += 1\n",
    "            else:\n",
    "                n0 += 1\n",
    "        else:\n",
    "            if examples[x][index] == 1:\n",
    "                p1 += 1\n",
    "            else:\n",
    "                p0 += 1\n",
    "\n",
    "    p = np.sum(binary_targets)\n",
    "    n = binary_targets.size-p\n",
    "\n",
    "    e1 = entropy(p, n)\n",
    "    e2 = entropy(p0, n0)\n",
    "    e3 = entropy(p1, n1)\n",
    "\n",
    "    remainder = (p0+n0)*e2/(p+n)+(p1+n1)*e3/(p+n)\n",
    "    return e1 - remainder\n",
    "\n",
    "#Choosing maximum IG\n",
    "def choose_best_decision_attribute(examples, attributes, binary_targets, threshold=0):\n",
    "    index = 0\n",
    "    max_gain = attribute_calculation(examples, index, binary_targets)\n",
    "    for x in range (0, attributes.size):\n",
    "        value = attribute_calculation(examples, x, binary_targets)\n",
    "        if max_gain < value:\n",
    "            max_gain = value\n",
    "            index = x\n",
    "    if max_gain < threshold:\n",
    "        return 0\n",
    "    return attributes[index]"
   ]
  },
  {
   "cell_type": "markdown",
   "metadata": {},
   "source": [
    "Learning"
   ]
  },
  {
   "cell_type": "code",
   "execution_count": 8,
   "metadata": {
    "collapsed": true
   },
   "outputs": [],
   "source": [
    "def decision_tree_learning(examples, attributes, bin_targets, threshold=0):\n",
    "    if examples.size == 0 or attributes.size == 0:\n",
    "        return Tree(classification=int(majority_value(bin_targets)), pos=np.sum(bin_targets), neg=bin_targets.size-np.sum(bin_targets))\n",
    "    elif all_the_same(bin_targets):\n",
    "        return Tree(classification=int(bin_targets[0]), pos=np.sum(bin_targets), neg=bin_targets.size-np.sum(bin_targets))\n",
    "    else:\n",
    "        best_attribute = choose_best_decision_attribute(examples, attributes, bin_targets, threshold)\n",
    "        if best_attribute == 0:\n",
    "            return Tree(classification=int(majority_value(bin_targets)), pos=np.sum(bin_targets), neg=bin_targets.size-np.sum(bin_targets))\n",
    "        index = np.where(attributes==best_attribute)\n",
    "        index = index[0][0]\n",
    "        attributes = np.delete(attributes, index)\n",
    "\n",
    "        ex1 = examples[examples[:,index]==1]\n",
    "        ex0 = examples[examples[:,index]==0]\n",
    "\n",
    "        bt1 = bin_targets[examples[:,index]==1]\n",
    "        bt0 = bin_targets[examples[:,index]==0]\n",
    "\n",
    "        ex1 = np.delete(ex1,index,axis=1)\n",
    "        ex0 = np.delete(ex0,index,axis=1)\n",
    "\n",
    "        t1 = decision_tree_learning(ex1, attributes, bt1, threshold)\n",
    "\n",
    "        t0 = decision_tree_learning(ex0, attributes, bt0, threshold)\n",
    "\n",
    "        return Tree(best_attribute, [t1,t0], pos=np.sum(bin_targets), neg=bin_targets.size-np.sum(bin_targets))"
   ]
  },
  {
   "cell_type": "markdown",
   "metadata": {},
   "source": [
    "Visualization"
   ]
  },
  {
   "cell_type": "code",
   "execution_count": 9,
   "metadata": {
    "collapsed": true
   },
   "outputs": [],
   "source": [
    "def tree_width(node):\n",
    "    if node.is_leaf():\n",
    "        return 1\n",
    "    return tree_width(node.kids[0]) + tree_width(node.kids[1])\n",
    "\n",
    "def tree_height(node):\n",
    "    if not node:\n",
    "        return 0\n",
    "    if not node.kids:\n",
    "        return 1\n",
    "    return max(tree_height(node.kids[0]), tree_height(node.kids[1])) + 1\n",
    "\n",
    "def draw_tree(draw, node, x, y):\n",
    "    if node.is_leaf():\n",
    "        draw.text((x-2,y), str(node.classification), (0,0,0))\n",
    "    else:\n",
    "        # false is the left branch\n",
    "        wt = tree_width(node.kids[1]) * 20\n",
    "        wf = tree_width(node.kids[0]) * 20\n",
    "        left = x - (wt + wf)/2\n",
    "        right = x + (wt + wf)/2\n",
    "        draw.text((x-2,y-1), str(node.op), (0,0,0))\n",
    "        draw.line((x,y,left+wf/2,y+30), fill=(255,0,0))\n",
    "        draw.line((x,y,right-wt/2,y+30), fill=(255,0,0))\n",
    "        draw_tree(draw, node.kids[0], left+wf/2, y+30)\n",
    "        draw_tree(draw, node.kids[1], right-wt/2, y+30)\n",
    "\n",
    "def visualize_tree(tree):\n",
    "    w = tree_width(tree) * 20\n",
    "    h = tree_height(tree) * 30 + 10\n",
    "    img = Image.new('RGB', (w,h), (255,255,255))\n",
    "    draw = ImageDraw.Draw(img)\n",
    "    draw_tree(draw, tree, w/2, 5)\n",
    "    img.save('tree.jpg','JPEG')\n",
    "    plt.imshow(img)\n",
    "    plt.show()"
   ]
  },
  {
   "cell_type": "markdown",
   "metadata": {},
   "source": [
    "Visualization example"
   ]
  },
  {
   "cell_type": "code",
   "execution_count": 18,
   "metadata": {
    "collapsed": false
   },
   "outputs": [
    {
     "data": {
      "image/png": "[encoded data removed]",
      "text/plain": [
       "<matplotlib.figure.Figure at 0x1f6ad1f9be0>"
      ]
     },
     "metadata": {},
     "output_type": "display_data"
    }
   ],
   "source": [
    "# NOTE: the visualization is saved to tree.jpg file in the directory where this notebook is,\n",
    "#       it has bigger size\n",
    "if __name__ == '__main__':\n",
    "    emotion = 'anger'\n",
    "    examples, targets = load_clean_data()\n",
    "    binary_targets = to_binary_targets(targets, emotion)\n",
    "    attributes = np.array(['AU_' + str(x+1) for x in range(examples.shape[1])])\n",
    "    tree = decision_tree_learning(examples, attributes, binary_targets)\n",
    "    visualize_tree(tree)"
   ]
  },
  {
   "cell_type": "markdown",
   "metadata": {
    "collapsed": false
   },
   "source": [
    "Cross-validation"
   ]
  },
  {
   "cell_type": "code",
   "execution_count": 11,
   "metadata": {
    "collapsed": true
   },
   "outputs": [],
   "source": [
    "#Tests one tree, returns depth of classification and classification\n",
    "def classify(tree, features, depth=0):\n",
    "    if tree.classification != None:\n",
    "        return [tree.classification, depth+1]\n",
    "    if features[tree.op-1]==1:\n",
    "        return classify(tree.kids[0], features, depth+1)\n",
    "    else:\n",
    "        return classify(tree.kids[1], features, depth+1)\n",
    "\n",
    "# testTrees(T,x2) from the specs, but named test_trees for style\n",
    "#Tests set of trained trees T on x2\n",
    "def test_trees(T, x2, random=0):\n",
    "    L=[]\n",
    "    for index in range(0,x2.shape[0]):\n",
    "        depths_pos = []\n",
    "        out_pos = []\n",
    "        depths_neg = []\n",
    "        out_neg = []\n",
    "        for t_num in range(0,T.size):\n",
    "            test = classify(T[t_num],x2[index])\n",
    "            \n",
    "            if test[0]==1:\n",
    "                depths_pos.append(test[1])\n",
    "                out_pos.append(t_num+1)\n",
    "            else:\n",
    "                depths_neg.append(test[1])\n",
    "                out_neg.append(t_num+1)\n",
    "        if random:\n",
    "            import random\n",
    "            if len(out_pos)==0:\n",
    "                output=random.randint(1, 6)\n",
    "            else:\n",
    "                output=out_pos[random.randint(0,len(out_pos)-1)]\n",
    "        else:\n",
    "            if len(out_pos)==0:\n",
    "                output = out_neg[depths_neg.index(max(depths_neg))]\n",
    "            else:\n",
    "                output = out_pos[depths_pos.index(min(depths_pos))]\n",
    "        L.append(output)\n",
    "    return L"
   ]
  },
  {
   "cell_type": "code",
   "execution_count": 11,
   "metadata": {},
   "outputs": [],
   "source": [
    ""
   ]
  },
  {
   "cell_type": "code",
   "execution_count": 12,
   "metadata": {
    "collapsed": true
   },
   "outputs": [],
   "source": [
    "#Creating confusion matrix\n",
    "\n",
    "def confusion_matrix_10_cross(examples, targets, threshold=0, prune=0,random=0):\n",
    "    k = 10\n",
    "    N = len(targets)\n",
    "    foldN = N // k\n",
    "    confusion_matrix = np.zeros((6,6), dtype=np.int)\n",
    "\n",
    "    #i = ith cross-validation run\n",
    "    for i in range(k):\n",
    "        aux_x = np.vstack((examples[:i*foldN, :], examples[(i+1)*foldN:, :]))\n",
    "        aux_y = np.vstack((targets[:i*foldN, :], targets[(i+1)*foldN:, :]))\n",
    "        if prune:\n",
    "            import random\n",
    "            valid_fold = random.randint(0,k-4)\n",
    "            train_x = np.vstack((aux_x[:valid_fold*foldN, :], aux_x[(valid_fold+3)*foldN:, :]))\n",
    "            train_y = np.vstack((aux_y[:valid_fold*foldN, :], aux_y[(valid_fold+3)*foldN:, :]))\n",
    "            valid_x = aux_x[valid_fold*foldN:(valid_fold+3)*foldN, :]\n",
    "            valid_y = aux_y[valid_fold*foldN:(valid_fold+3)*foldN, :]\n",
    "        else:\n",
    "            train_x=aux_x\n",
    "            train_y=aux_y\n",
    "            \n",
    "        test_x = examples[i*foldN:(i+1)*foldN, :]\n",
    "        test_y = targets[i*foldN:(i+1)*foldN, :]\n",
    "        \n",
    "        attributes = np.arange(1, examples.shape[1]+1)\n",
    "\n",
    "        #Training on train data\n",
    "        L=[]\n",
    "        for i in range(1,7):\n",
    "            tree = decision_tree_learning(train_x, attributes, to_binary_targets(train_y,i), threshold)\n",
    "            if prune:\n",
    "                tree = prune_tree(tree, valid_x, to_binary_targets(valid_y,i))\n",
    "            L.append(tree)\n",
    "        T = np.array(L)\n",
    "\n",
    "        results = test_trees(T, test_x, random)\n",
    "\n",
    "        for i in range(0, test_y.size):\n",
    "            confusion_matrix[test_y[i] - 1, results[i] - 1]+=1\n",
    "\n",
    "    return confusion_matrix"
   ]
  },
  {
   "cell_type": "code",
   "execution_count": 13,
   "metadata": {
    "collapsed": false
   },
   "outputs": [
    {
     "data": {
      "text/plain": [
       "\"\\ndef test_trees(trees, examples):\\n    res = []\\n    for i,example in enumerate(examples):\\n        max_d = 0\\n        max_e = 0\\n        for j,tree in enumerate(trees):\\n            (c, d) = classify(tree, example)\\n            if c and max_d < d:\\n                max_d = d\\n                max_e = j+1\\n        res.append([(max_e)])\\n    return np.array(res)\\n    \\ndef get_precision(predTargets, trueTargets):\\n    return np.sum(predTargets == trueTargets) / predTargets.size\\n    \\n# k-fold validation\\ndef k_fold_validation(examples, targets, k, prune=False):\\n    N = len(examples)\\n    foldN = N // k\\n    precs = []\\n    for i in range(k):\\n        print('Fold ' + str(i))\\n        training_examples = np.vstack((examples[:i*foldN, :], examples[(i+1)*foldN:, :]))\\n        training_targets = np.vstack((targets[:i*foldN, :], targets[(i+1)*foldN:, :]))\\n        validation_examples = np.array([])\\n        validation_targets = np.array([])\\n        if prune:\\n            T = len(training_examples)\\n            validation_examples = training_examples[:(T//(k-1))]\\n            validation_targets  = training_targets[:(T//(k-1))]\\n            training_examples = training_examples[(T//(k-1)):]\\n            training_targets = training_targets[(T//(k-1)):]\\n        test_examples = examples[i*foldN:(i+1)*foldN, :]\\n        test_targets = targets[i*foldN:(i+1)*foldN, :]\\n        trees = []\\n        for emotion in EMOTIONS:\\n            print('  emotion = ' + emotion)\\n            #attributes = np.array(['AU_' + str(x+1) for x in range(examples.shape[1])])\\n            attributes = np.array(list(range(1, examples.shape[1]+1)))\\n            binary_training_targets = to_binary_targets(training_targets, emotion)\\n            tree = decision_tree_learning(training_examples, attributes, binary_training_targets)\\n            if prune:\\n                tree = prune_tree(tree, validation_examples, validation_targets)\\n            trees.append(tree)\\n        predictions = test_trees(trees, test_examples)\\n        #print(predictions)\\n        precision = get_precision(predictions, test_targets)\\n        print(precision)\\n        precs.append(precision)\\n    print('PRECISION = ' + str(np.mean(np.array(precs))))\\n\""
      ]
     },
     "execution_count": 12,
     "metadata": {},
     "output_type": "execute_result"
    }
   ],
   "source": [
    "'''\n",
    "def test_trees(trees, examples):\n",
    "    res = []\n",
    "    for i,example in enumerate(examples):\n",
    "        max_d = 0\n",
    "        max_e = 0\n",
    "        for j,tree in enumerate(trees):\n",
    "            (c, d) = classify(tree, example)\n",
    "            if c and max_d < d:\n",
    "                max_d = d\n",
    "                max_e = j+1\n",
    "        res.append([(max_e)])\n",
    "    return np.array(res)\n",
    "    \n",
    "def get_precision(predTargets, trueTargets):\n",
    "    return np.sum(predTargets == trueTargets) / predTargets.size\n",
    "    \n",
    "# k-fold validation\n",
    "def k_fold_validation(examples, targets, k, prune=False):\n",
    "    N = len(examples)\n",
    "    foldN = N // k\n",
    "    precs = []\n",
    "    for i in range(k):\n",
    "        print('Fold ' + str(i))\n",
    "        training_examples = np.vstack((examples[:i*foldN, :], examples[(i+1)*foldN:, :]))\n",
    "        training_targets = np.vstack((targets[:i*foldN, :], targets[(i+1)*foldN:, :]))\n",
    "        validation_examples = np.array([])\n",
    "        validation_targets = np.array([])\n",
    "        if prune:\n",
    "            T = len(training_examples)\n",
    "            validation_examples = training_examples[:(T//(k-1))]\n",
    "            validation_targets  = training_targets[:(T//(k-1))]\n",
    "            training_examples = training_examples[(T//(k-1)):]\n",
    "            training_targets = training_targets[(T//(k-1)):]\n",
    "        test_examples = examples[i*foldN:(i+1)*foldN, :]\n",
    "        test_targets = targets[i*foldN:(i+1)*foldN, :]\n",
    "        trees = []\n",
    "        for emotion in EMOTIONS:\n",
    "            print('  emotion = ' + emotion)\n",
    "            #attributes = np.array(['AU_' + str(x+1) for x in range(examples.shape[1])])\n",
    "            attributes = np.array(list(range(1, examples.shape[1]+1)))\n",
    "            binary_training_targets = to_binary_targets(training_targets, emotion)\n",
    "            tree = decision_tree_learning(training_examples, attributes, binary_training_targets)\n",
    "            if prune:\n",
    "                tree = prune_tree(tree, validation_examples, validation_targets)\n",
    "            trees.append(tree)\n",
    "        predictions = test_trees(trees, test_examples)\n",
    "        #print(predictions)\n",
    "        precision = get_precision(predictions, test_targets)\n",
    "        print(precision)\n",
    "        precs.append(precision)\n",
    "    print('PRECISION = ' + str(np.mean(np.array(precs))))\n",
    "'''"
   ]
  },
  {
   "cell_type": "code",
   "execution_count": 14,
   "metadata": {
    "collapsed": false
   },
   "outputs": [],
   "source": [
    "#if __name__ == '__main__':\n",
    "#    x, y = load_clean_data()\n",
    "#    k_fold_validation(x, y, 10, prune=True)"
   ]
  },
  {
   "cell_type": "code",
   "execution_count": 21,
   "metadata": {
    "collapsed": false
   },
   "outputs": [
    {
     "name": "stdout",
     "output_type": "stream",
     "text": [
      "0\n"
     ]
    },
    {
     "name": "stdout",
     "output_type": "stream",
     "text": [
      "[[ 89  19   4   4  13   2]\n [ 18 150   1  10  12   7]\n [  4   6  88   3   3  14]\n [  1  12   3 183  11   5]\n [ 25  16   7   8  72   4]\n [  3   5  15   6   9 168]]\n0.75\n1\n"
     ]
    },
    {
     "name": "stdout",
     "output_type": "stream",
     "text": [
      "[[ 90  20   3   3  13   2]\n [ 17 152   1   9  12   7]\n [  5   6  87   2   3  15]\n [  1  13   1 185  10   5]\n [ 25  17   4   8  74   4]\n [  2   5  12   6  12 169]]\n0.757\n2\n"
     ]
    },
    {
     "name": "stdout",
     "output_type": "stream",
     "text": [
      "[[ 92  18   3   3  13   2]\n [ 15 154   0   9  13   7]\n [  2   6  89   2   4  15]\n [  1  14   0 186  10   4]\n [ 21  18   4   8  77   4]\n [  2   9   9   6  10 170]]\n0.768\n3\n"
     ]
    },
    {
     "name": "stdout",
     "output_type": "stream",
     "text": [
      "[[100   4   3   4  18   2]\n [ 18 149   2   8  16   5]\n [  2   4  89   3   6  14]\n [  1   9   0 190  11   4]\n [ 20   9   5   8  83   7]\n [  3   3  10   6  11 173]]\n0.784\n4\n"
     ]
    },
    {
     "name": "stdout",
     "output_type": "stream",
     "text": [
      "[[101   4   3   4  17   2]\n [ 17 154   2   8  14   3]\n [  3   4  89   3   5  14]\n [  0   9   0 191  10   5]\n [ 19  10   5   8  82   8]\n [  2   5  11   6   9 173]]\n0.79\n5\n"
     ]
    },
    {
     "name": "stdout",
     "output_type": "stream",
     "text": [
      "[[100   5   5   4  17   0]\n [ 11 157   4   7  16   3]\n [  3   4  93   3   4  11]\n [  0   7   0 202   3   3]\n [ 22  12   5   7  77   9]\n [  8   6  12   6   8 166]]\n0.795\n6\n"
     ]
    },
    {
     "name": "stdout",
     "output_type": "stream",
     "text": [
      "[[ 95   6   7   6  17   0]\n [  9 160   4   6  16   3]\n [  4   4  93   3   3  11]\n [  0   7   0 202   3   3]\n [ 25  12   5   7  78   5]\n [ 10   6  13   8   7 162]]\n0.79\n7\n"
     ]
    },
    {
     "name": "stdout",
     "output_type": "stream",
     "text": [
      "[[ 91   7   9   5  19   0]\n [  6 163   7   5  15   2]\n [  2   5  94   3   2  12]\n [ 10   5   3 189   5   3]\n [ 19  12   5  11  79   6]\n [  4   6  13  13   8 162]]\n0.778\n8\n"
     ]
    },
    {
     "name": "stdout",
     "output_type": "stream",
     "text": [
      "[[ 98   7   9   7   9   1]\n [ 14 160  11   3   8   2]\n [  3   4  97   2   0  12]\n [ 17   5   5 184   1   3]\n [ 53  12   6  10  34  17]\n [ 10   5  17  10   3 161]]\n0.734\n9\n"
     ]
    },
    {
     "name": "stdout",
     "output_type": "stream",
     "text": [
      "[[108   7  10   5   0   1]\n [ 20 161  13   2   0   2]\n [  3   4  97   2   0  12]\n [ 20   5   5 182   0   3]\n [ 84  12   7   7   0  22]\n [ 15   5  18   6   0 162]]\n0.71\n10\n"
     ]
    },
    {
     "name": "stdout",
     "output_type": "stream",
     "text": [
      "[[105  10  10   5   0   1]\n [ 20 162  13   2   0   1]\n [  3   4  96   3   0  12]\n [ 20   5   5 182   0   3]\n [ 83  13   7   7   0  22]\n [ 15   5  18   6   0 162]]\n0.707\n11\n"
     ]
    },
    {
     "name": "stdout",
     "output_type": "stream",
     "text": [
      "[[102  12  10   5   0   2]\n [ 21 160  13   2   0   2]\n [  4   5  95   2   0  12]\n [ 20   6   4 182   0   3]\n [ 82  14   8   7   0  21]\n [ 15   3  20   6   0 162]]\n0.701\n12\n"
     ]
    },
    {
     "name": "stdout",
     "output_type": "stream",
     "text": [
      "[[ 84  28  11   6   0   2]\n [ 17 168  11   1   0   1]\n [  5   6  95   2   0  10]\n [ 19  10   4 179   0   3]\n [ 70  26   8   7   0  21]\n [ 13   7  19   6   0 161]]\n0.687\n13\n"
     ]
    },
    {
     "name": "stdout",
     "output_type": "stream",
     "text": [
      "[[ 16  80  16  11   0   8]\n [  2 182  12   2   0   0]\n [  2   8  96   2   0  10]\n [  7  22   4 179   0   3]\n [ 20  74   9   9   0  20]\n [  0  21  19   6   0 160]]\n0.633\n14\n"
     ]
    },
    {
     "name": "stdout",
     "output_type": "stream",
     "text": [
      "[[  0  96  16  12   0   7]\n [  0 184  12   2   0   0]\n [  0   9  97   2   0  10]\n [  0  32   4 176   0   3]\n [  0  92   9  11   0  20]\n [  0  22  19   7   0 158]]\n0.615\n15\n"
     ]
    },
    {
     "name": "stdout",
     "output_type": "stream",
     "text": [
      "[[  0  97  17  10   0   7]\n [  0 184  12   2   0   0]\n [  0   9  98   1   0  10]\n [  0  32   4 176   0   3]\n [  0  92   9  11   0  20]\n [  0  23  20   5   0 158]]\n0.616\n16\n"
     ]
    },
    {
     "name": "stdout",
     "output_type": "stream",
     "text": [
      "[[  0  97  17  10   0   7]\n [  0 185  12   1   0   0]\n [  0   9  98   3   0   8]\n [  0  32   4 176   0   3]\n [  0  92   9  11   0  20]\n [  0  24  20   6   0 156]]\n0.615\n17\n"
     ]
    },
    {
     "name": "stdout",
     "output_type": "stream",
     "text": [
      "[[  0  97  17  11   0   6]\n [  0 185  12   1   0   0]\n [  0  14  93   3   0   8]\n [  0  39   4 169   0   3]\n [  0  92   9  11   0  20]\n [  0  24  20   7   0 155]]\n0.602\n18\n"
     ]
    },
    {
     "name": "stdout",
     "output_type": "stream",
     "text": [
      "[[  0  99  15  11   0   6]\n [  0 187  10   1   0   0]\n [  0  15  80   7   0  16]\n [  0  43   3 166   0   3]\n [  0  92   9  11   0  20]\n [  0  25  17   7   0 157]]\n0.59\n19\n"
     ]
    },
    {
     "name": "stdout",
     "output_type": "stream",
     "text": [
      "[[  0 101  13  11   0   6]\n [  0 188   9   1   0   0]\n [  0  20  70   7   0  21]\n [  0  48   3 162   0   2]\n [  0  93   8  12   0  19]\n [  0  28  17   9   0 152]]\n0.572\n"
     ]
    }
   ],
   "source": [
    "if __name__ == '__main__':\n",
    "    \n",
    "    x, y = load_clean_data()\n",
    "    for i in range(20):\n",
    "        print(i)\n",
    "        cm = confusion_matrix_10_cross(x,y,prune=0,threshold=0.01*i)\n",
    "        print(cm)\n",
    "        print((cm[0,0]+cm[1,1]+cm[2,2]+cm[3,3]+cm[4,4]+cm[5,5])/np.sum(cm))\n",
    "        \n",
    "    '''\n",
    "    cm = confusion_matrix_10_cross(x,y,prune=1,threshold=0.01)\n",
    "    print(cm)\n",
    "    print((cm[0,0]+cm[1,1]+cm[2,2]+cm[3,3]+cm[4,4]+cm[5,5])/np.sum(cm))\n",
    "\n",
    "    cm = confusion_matrix_10_cross(x,y,prune=0,threshold=0.01)\n",
    "    print(cm)\n",
    "    print((cm[0,0]+cm[1,1]+cm[2,2]+cm[3,3]+cm[4,4]+cm[5,5])/np.sum(cm))\n",
    "    \n",
    "    cm = confusion_matrix_10_cross(x,y,prune=1,random=1,threshold=0.01)\n",
    "    print(cm)\n",
    "    print((cm[0,0]+cm[1,1]+cm[2,2]+cm[3,3]+cm[4,4]+cm[5,5])/np.sum(cm))\n",
    "      \n",
    "    cm = confusion_matrix_10_cross(x,y,prune=0,random=1,threshold=0.01)\n",
    "    print(cm)\n",
    "    print((cm[0,0]+cm[1,1]+cm[2,2]+cm[3,3]+cm[4,4]+cm[5,5])/np.sum(cm))\n",
    "    '''"
   ]
  },
  {
   "cell_type": "code",
   "execution_count": null,
   "metadata": {},
   "outputs": [],
   "source": [
    ""
   ]
  },
  {
   "cell_type": "code",
   "execution_count": null,
   "metadata": {},
   "outputs": [],
   "source": [
    ""
   ]
  }
 ],
 "metadata": {
  "kernelspec": {
   "display_name": "Python 3",
   "language": "python",
   "name": "python3"
  },
  "language_info": {
   "codemirror_mode": {
    "name": "ipython",
    "version": 3.0
   },
   "file_extension": ".py",
   "mimetype": "text/x-python",
   "name": "python",
   "nbconvert_exporter": "python",
   "pygments_lexer": "ipython3",
   "version": "3.4.3"
  }
 },
 "nbformat": 4,
 "nbformat_minor": 0
}