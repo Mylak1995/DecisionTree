{
 "cells": [
  {
   "cell_type": "code",
   "execution_count": 30,
   "metadata": {
    "collapsed": true
   },
   "outputs": [],
   "source": [
    "import numpy as np\n",
    "import scipy.io as sio\n",
    "import matplotlib.pyplot as plt\n",
    "from PIL import Image, ImageDraw\n",
    "from math import log2\n",
    "%matplotlib inline"
   ]
  },
  {
   "cell_type": "markdown",
   "metadata": {},
   "source": [
    "Loading Data and some utility functions"
   ]
  },
  {
   "cell_type": "code",
   "execution_count": 31,
   "metadata": {
    "collapsed": false
   },
   "outputs": [],
   "source": [
    "def load_clean_data():\n",
    "    data = sio.loadmat('cleandata_students.mat')\n",
    "    return data['x'], data['y']\n",
    "\n",
    "def load_noisy_data():\n",
    "    data = sio.loadmat('noisydata_students.mat')\n",
    "    return data['x'], data['y']"
   ]
  },
  {
   "cell_type": "code",
   "execution_count": 32,
   "metadata": {
    "collapsed": true
   },
   "outputs": [],
   "source": [
    "EMOTIONS = ['anger', 'disgust', 'fear', 'happiness', 'sadness', 'surprise']\n",
    "\n",
    "def label_to_string(label):\n",
    "    if label == 1:\n",
    "        return 'anger'\n",
    "    elif label == 2:\n",
    "        return 'disgust'\n",
    "    elif label == 3:\n",
    "        return 'fear'\n",
    "    elif label == 4:\n",
    "        return 'happiness'\n",
    "    elif label == 5:\n",
    "        return 'sadness'\n",
    "    elif label == 6:\n",
    "        return 'surprise'\n",
    "    else:\n",
    "        return 'Unknown emotion label'\n",
    "\n",
    "def string_to_label(s):\n",
    "    if s == 'anger':\n",
    "        return 1\n",
    "    elif s == 'disgust':\n",
    "        return 2\n",
    "    elif s == 'fear':\n",
    "        return 3\n",
    "    elif s == 'happiness':\n",
    "        return 4\n",
    "    elif s == 'sadness':\n",
    "        return 5\n",
    "    elif s == 'surprise':\n",
    "        return 6\n",
    "    else:\n",
    "        return -1"
   ]
  },
  {
   "cell_type": "code",
   "execution_count": 33,
   "metadata": {
    "collapsed": true
   },
   "outputs": [],
   "source": [
    "# turns targets into binary targets depending on the emotion\n",
    "def to_binary_targets(targets, emotion):\n",
    "    if isinstance(emotion, str):\n",
    "        emotion = string_to_label(emotion)\n",
    "    return targets == emotion\n",
    "\n",
    "#Checking if binary targets contain of one value (point uniquely to answer)\n",
    "def is_unique(bin_targets):\n",
    "    if bin_targets.size == np.sum(bin_targets) or np.sum(bin_targets) == 0:\n",
    "        return True\n",
    "    return False\n",
    "\n",
    "#Returning majority value of binary targets\n",
    "def majority_value(bin_targets):\n",
    "    if np.sum(bin_targets) > (bin_targets.size/2):\n",
    "        return 1\n",
    "    return 0\n",
    "\n",
    "#Calculates recall on single tree\n",
    "def calculate_recall(tree, examples, binary_targets):\n",
    "    counter=0\n",
    "    for index in range(0,examples.shape[0]):\n",
    "        if test_one_tree(tree,examples[index],0)[0]==binary_targets[index]:\n",
    "            counter+=1\n",
    "    return counter/examples.shape[0]"
   ]
  },
  {
   "cell_type": "markdown",
   "metadata": {},
   "source": [
    "Decision Tree class"
   ]
  },
  {
   "cell_type": "code",
   "execution_count": 34,
   "metadata": {
    "collapsed": false
   },
   "outputs": [],
   "source": [
    "class Tree:\n",
    "    def __init__(self, op=None, kids=[], classification=None, pos=None, neg=None):\n",
    "        self.op = op\n",
    "        self.kids = kids\n",
    "        self.classification = classification   # tree.class from the specs, but class is a keyword\n",
    "        self.pos = pos\n",
    "        self.neg = neg\n",
    "    def is_leaf(self):\n",
    "        return (self.classification != None)\n",
    "    #Checks if a node is a parent to two leaves\n",
    "    def is_leaves_parent(self):\n",
    "        return self.kids[0] and self.kids[1] and self.kids[0].is_leaf() and self.kids[1].is_leaf()\n",
    "    def count_leaves(self):\n",
    "        if self.is_leaf():\n",
    "            return 1\n",
    "        else:\n",
    "            return self.kids[0].count_leaves() + self.kids[1].count_leaves()\n",
    "\n",
    "        \n",
    "#Finds all nodes that are parents to two leaves\n",
    "def find_all_parents(tree):\n",
    "    L=[]\n",
    "    if tree.is_leaf():\n",
    "        return L\n",
    "    elif tree.is_leaves_parent():\n",
    "        L.append(tree)\n",
    "        return L\n",
    "    else:\n",
    "        K = find_all_parents(tree.kids[0])\n",
    "        M = find_all_parents(tree.kids[1])\n",
    "        L.extend(K)\n",
    "        L.extend(M)\n",
    "        return L\n",
    "        \n",
    "def prune_tree(tree, validation_x, binary_targets):\n",
    "    L = find_all_parents(tree)\n",
    "    non_changed = 0\n",
    "    for node in L:\n",
    "        initial_recall = calculate_recall(tree, validation_x, binary_targets)\n",
    "            \n",
    "        temp = node.kids\n",
    "        tempop = node.op\n",
    "        node.op = None\n",
    "        node.kids = []\n",
    "\n",
    "        if node.pos > node.neg:\n",
    "            node.classification = 1\n",
    "        else:\n",
    "            node.classification = 0\n",
    "        end_recall = calculate_recall(tree, validation_x, binary_targets)\n",
    "\n",
    "        if end_recall < initial_recall:\n",
    "            node.classification = None\n",
    "            node.kids = temp\n",
    "            node.op = tempop\n",
    "            non_changed += 1\n",
    "\n",
    "    if non_changed == len(L):\n",
    "        return tree\n",
    "    return prune_tree(tree, validation_x, binary_targets)"
   ]
  },
  {
   "cell_type": "code",
   "execution_count": null,
   "metadata": {
    "collapsed": true
   },
   "outputs": [],
   "source": []
  },
  {
   "cell_type": "code",
   "execution_count": 35,
   "metadata": {
    "collapsed": true
   },
   "outputs": [],
   "source": [
    "#Calculating entropy\n",
    "def entropy(p, n):\n",
    "    from math import log\n",
    "    if p+n == 0: return 0\n",
    "    a = p/(p+n)\n",
    "    b = n/(p+n)\n",
    "    log2 = lambda x: log(x)/log(2)\n",
    "    if a == 0 or b == 0:\n",
    "        return 0\n",
    "    return (-a*log2(a)-b*log2(b))\n",
    "\n",
    "\n",
    "#Performing IG calculation for given attribute\n",
    "def attribute_calculation(examples, index, binary_targets):\n",
    "    p0, n0, p1, n1 = 0, 0, 0, 0\n",
    "    for x in range(0, binary_targets.size):\n",
    "        if binary_targets[x] == 0:\n",
    "            if examples[x][index] == 1:\n",
    "                n1 += 1\n",
    "            else:\n",
    "                n0 += 1\n",
    "        else:\n",
    "            if examples[x][index] == 1:\n",
    "                p1 += 1\n",
    "            else:\n",
    "                p0 += 1\n",
    "\n",
    "    p = np.sum(binary_targets)\n",
    "    n = binary_targets.size-p\n",
    "\n",
    "    e1 = entropy(p, n)\n",
    "    e2 = entropy(p0, n0)\n",
    "    e3 = entropy(p1, n1)\n",
    "\n",
    "    remainder = (p0+n0)*e2/(p+n)+(p1+n1)*e3/(p+n)\n",
    "    return e1 - remainder\n",
    "\n",
    "#Choosing maximum IG\n",
    "def choose_best_decision_attribute(examples, attributes, binary_targets, threshold=0):\n",
    "    index = 0\n",
    "    max_gain = attribute_calculation(examples, index, binary_targets)\n",
    "    for x in range (0, attributes.size):\n",
    "        value = attribute_calculation(examples, x, binary_targets)\n",
    "        if max_gain < value:\n",
    "            max_gain = value\n",
    "            index = x\n",
    "    if max_gain < threshold:\n",
    "        return 0\n",
    "    return attributes[index]"
   ]
  },
  {
   "cell_type": "code",
   "execution_count": 36,
   "metadata": {
    "collapsed": true
   },
   "outputs": [],
   "source": [
    "#Learning\n",
    "\n",
    "def decision_tree_learning(examples, attributes, bin_targets, threshold=0):\n",
    "    if examples.size == 0 or attributes.size == 0:\n",
    "        return Tree(classification=int(majority_value(bin_targets)), pos=np.sum(bin_targets), neg=bin_targets.size-np.sum(bin_targets))\n",
    "    elif is_unique(bin_targets):\n",
    "        return Tree(classification=int(bin_targets[0]), pos=np.sum(bin_targets), neg=bin_targets.size-np.sum(bin_targets))\n",
    "    else:\n",
    "        best_attribute = choose_best_decision_attribute(examples, attributes, bin_targets, threshold)\n",
    "        if best_attribute == 0:\n",
    "            return Tree(classification=int(majority_value(bin_targets)), pos=np.sum(bin_targets), neg=bin_targets.size-np.sum(bin_targets))\n",
    "        index = np.where(attributes==best_attribute)\n",
    "        index = index[0][0]\n",
    "        attributes = np.delete(attributes, index)\n",
    "\n",
    "        ex1 = examples[examples[:,index]==1]\n",
    "        ex0 = examples[examples[:,index]==0]\n",
    "\n",
    "        bt1 = bin_targets[examples[:,index]==1]\n",
    "        bt0 = bin_targets[examples[:,index]==0]\n",
    "\n",
    "        ex1 = np.delete(ex1,index,axis=1)\n",
    "        ex0 = np.delete(ex0,index,axis=1)\n",
    "\n",
    "        t1 = decision_tree_learning(ex1, attributes, bt1, threshold)\n",
    "\n",
    "        t0 = decision_tree_learning(ex0, attributes, bt0, threshold)\n",
    "\n",
    "        return Tree(best_attribute, [t1,t0], pos=np.sum(bin_targets), neg=bin_targets.size-np.sum(bin_targets))"
   ]
  },
  {
   "cell_type": "markdown",
   "metadata": {},
   "source": [
    "Visualization"
   ]
  },
  {
   "cell_type": "code",
   "execution_count": 37,
   "metadata": {
    "collapsed": true
   },
   "outputs": [],
   "source": [
    "def tree_width(node):\n",
    "    if node.is_leaf():\n",
    "        return 1\n",
    "    return tree_width(node.kids[0]) + tree_width(node.kids[1])\n",
    "\n",
    "def tree_height(node):\n",
    "    if not node:\n",
    "        return 0\n",
    "    if not node.kids:\n",
    "        return 1\n",
    "    return max(tree_height(node.kids[0]), tree_height(node.kids[1])) + 1\n",
    "\n",
    "def draw_node(draw, node, x, y):\n",
    "    if node.is_leaf():\n",
    "        draw.text((x-2,y), str(node.classification), (0,0,0))\n",
    "    else:\n",
    "        # false is the left branch\n",
    "        wt = tree_width(node.kids[1]) * 20\n",
    "        wf = tree_width(node.kids[0]) * 20\n",
    "        left = x - (wt + wf)/2\n",
    "        right = x + (wt + wf)/2\n",
    "        draw.text((x-2,y-1), str(node.op), (0,0,0))\n",
    "        draw.line((x,y,left+wf/2,y+30), fill=(255,0,0))\n",
    "        draw.line((x,y,right-wt/2,y+30), fill=(255,0,0))\n",
    "        draw_node(draw, node.kids[0], left+wf/2, y+30)\n",
    "        draw_node(draw, node.kids[1], right-wt/2, y+30)\n",
    "\n",
    "def visualize_tree(root_node):\n",
    "    w = tree_width(root_node) * 20\n",
    "    h = tree_height(root_node) * 30 + 10\n",
    "    print(w, h)\n",
    "    img = Image.new('RGB', (w,h), (255,255,255))\n",
    "    draw = ImageDraw.Draw(img)\n",
    "    draw_node(draw, root_node, w/2, 5)\n",
    "    img.save('tree.jpg','JPEG')\n",
    "    plt.imshow(img)\n",
    "    plt.show()"
   ]
  },
  {
   "cell_type": "markdown",
   "metadata": {},
   "source": [
    "Visualization example"
   ]
  },
  {
   "cell_type": "code",
   "execution_count": 38,
   "metadata": {
    "collapsed": false
   },
   "outputs": [
    {
     "name": "stdout",
     "output_type": "stream",
     "text": [
      "['AU_1' 'AU_2' 'AU_3' 'AU_4' 'AU_5' 'AU_6' 'AU_7' 'AU_8' 'AU_9' 'AU_10'\n",
      " 'AU_11' 'AU_12' 'AU_13' 'AU_14' 'AU_15' 'AU_16' 'AU_17' 'AU_18' 'AU_19'\n",
      " 'AU_20' 'AU_21' 'AU_22' 'AU_23' 'AU_24' 'AU_25' 'AU_26' 'AU_27' 'AU_28'\n",
      " 'AU_29' 'AU_30' 'AU_31' 'AU_32' 'AU_33' 'AU_34' 'AU_35' 'AU_36' 'AU_37'\n",
      " 'AU_38' 'AU_39' 'AU_40' 'AU_41' 'AU_42' 'AU_43' 'AU_44' 'AU_45']\n",
      "<__main__.Tree object at 0x7f8f3ba64128>\n",
      "1300 370\n"
     ]
    },
    {
     "data": {
      "image/png": "[encoded data removed]",
      "text/plain": [
       "<matplotlib.figure.Figure at 0x7f8f3ba64358>"
      ]
     },
     "metadata": {},
     "output_type": "display_data"
    }
   ],
   "source": [
    "if __name__ == '__main__':\n",
    "    emotion = 'surprise'\n",
    "    examples, targets = load_clean_data()\n",
    "    binary_targets = to_binary_targets(targets, emotion)\n",
    "    attributes = np.array(['AU_' + str(x+1) for x in range(examples.shape[1])])\n",
    "    print(attributes)\n",
    "    tree = decision_tree_learning(examples, attributes, binary_targets)\n",
    "    print(tree)\n",
    "    visualize_tree(tree)"
   ]
  },
  {
   "cell_type": "markdown",
   "metadata": {
    "collapsed": false
   },
   "source": [
    "Cross-validation"
   ]
  },
  {
   "cell_type": "code",
   "execution_count": 27,
   "metadata": {
    "collapsed": true
   },
   "outputs": [],
   "source": [
    "#Tests one tree, returns depth of classification and classification\n",
    "def test_one_tree(tree,features,depth):\n",
    "    if tree.classification != None:\n",
    "        return [tree.classification, depth+1]\n",
    "    if features[tree.op-1]==1:\n",
    "        return test_one_tree(tree.kids[0], features, depth+1)\n",
    "    else:\n",
    "        return test_one_tree(tree.kids[1], features, depth+1)\n",
    "\n",
    "#Tests set of trained trees T on x2\n",
    "def test_trees(T,x2):\n",
    "    L=[]\n",
    "    for index in range(0,x2.shape[0]):\n",
    "        depths_pos = []\n",
    "        out_pos = []\n",
    "        depths_neg = []\n",
    "        out_neg = []\n",
    "        \n",
    "        for t_num in range(0,T.size):\n",
    "            test=test_one_tree(T[t_num],x2[index],0)\n",
    "            if test[0]==1:\n",
    "                depths_pos.append(test[1])\n",
    "                out_pos.append(t_num+1)\n",
    "            else:\n",
    "                depths_neg.append(test[1])\n",
    "                out_neg.append(t_num+1)\n",
    "        \n",
    "        if len(out_pos)==0:\n",
    "            output = out_neg[depths_neg.index(max(depths_neg))]\n",
    "        else:\n",
    "            output = out_pos[depths_pos.index(min(depths_pos))]\n",
    "            \n",
    "        L.append(output)\n",
    "    return L"
   ]
  },
  {
   "cell_type": "code",
   "execution_count": 28,
   "metadata": {
    "collapsed": true
   },
   "outputs": [],
   "source": [
    "#Creating confusion matrix\n",
    "\n",
    "def confusion_matrix_10_cross(data, classification, threshold=0, prune=0):\n",
    "    #Creating slices\n",
    "    x_slices = np.vsplit(data[:900, :], 9)\n",
    "    x_l_slice = data[900:, :]\n",
    "    x_slices.append(x_l_slice)\n",
    "\n",
    "    y_slices = np.vsplit(classification[:900], 9)\n",
    "    y_l_slice = classification[900:]\n",
    "    y_slices.append(y_l_slice)\n",
    "\n",
    "    confusion_matrix = np.zeros((6,6), dtype=np.int)\n",
    "\n",
    "    #i = ith cross-validation run\n",
    "    for i in range(0,10):\n",
    "        train_x = np.empty((0, 45), int)\n",
    "        train_y = np.empty((0,1), int)\n",
    "\n",
    "        for j in range (0,10):\n",
    "            if j==i:\n",
    "                test_x = x_slices[j]\n",
    "                test_y = y_slices[j]\n",
    "            else:\n",
    "                train_x = np.concatenate((train_x, x_slices[j]), axis=0)\n",
    "                train_y = np.concatenate((train_y, y_slices[j]), axis=0)\n",
    "\n",
    "        attributes = np.arange(1, 46)\n",
    "\n",
    "        #Training on train data\n",
    "        L=[]\n",
    "\n",
    "        for i in range(1,7):\n",
    "            L.append(decision_tree_learning(train_x,attributes,to_binary_targets(train_y,i),threshold))\n",
    "            if prune==1:\n",
    "                L[i-1] = prune_tree(L[i-1], test_x,to_binary_targets(test_y,i))\n",
    "        T = np.array(L)\n",
    "\n",
    "        results = test_trees(T,test_x)\n",
    "\n",
    "        for i in range(0, test_y.size):\n",
    "            confusion_matrix[test_y[i] - 1, results[i] - 1]+=1\n",
    "\n",
    "    return confusion_matrix"
   ]
  },
  {
   "cell_type": "code",
   "execution_count": 29,
   "metadata": {
    "collapsed": false
   },
   "outputs": [
    {
     "name": "stdout",
     "output_type": "stream",
     "text": [
      "[[ 97  16   6   2   8   3]\n",
      " [  8 175   0   5   9   1]\n",
      " [  3   4  90   4   2  16]\n",
      " [  3   8   1 198   1   5]\n",
      " [ 15  23   1   5  80   8]\n",
      " [  0   7   9   3   4 184]]\n",
      "0.820717131474\n",
      "[[ 90  19   4   4  13   2]\n",
      " [ 18 150   1  10  12   7]\n",
      " [  4   6  88   3   4  14]\n",
      " [  1  12   3 184  11   5]\n",
      " [ 25  16   7   8  72   4]\n",
      " [  3   5  15   6   9 169]]\n",
      "0.75\n"
     ]
    }
   ],
   "source": [
    "if __name__ == '__main__':\n",
    "    x, y = load_clean_data()\n",
    "    cm = confusion_matrix_10_cross(x,y,prune=1)\n",
    "    print(cm)\n",
    "    print((cm[0,0]+cm[1,1]+cm[2,2]+cm[3,3]+cm[4,4]+cm[5,5])/np.sum(cm))\n",
    "    \n",
    "    cm = confusion_matrix_10_cross(x,y,prune=0)\n",
    "    print(cm)\n",
    "    print((cm[0,0]+cm[1,1]+cm[2,2]+cm[3,3]+cm[4,4]+cm[5,5])/np.sum(cm))"
   ]
  },
  {
   "cell_type": "code",
   "execution_count": null,
   "metadata": {
    "collapsed": true
   },
   "outputs": [],
   "source": []
  }
 ],
 "metadata": {
  "kernelspec": {
   "display_name": "Python 3",
   "language": "python",
   "name": "python3"
  },
  "language_info": {
   "codemirror_mode": {
    "name": "ipython",
    "version": 3
   },
   "file_extension": ".py",
   "mimetype": "text/x-python",
   "name": "python",
   "nbconvert_exporter": "python",
   "pygments_lexer": "ipython3",
   "version": "3.4.3"
  }
 },
 "nbformat": 4,
 "nbformat_minor": 0
}
