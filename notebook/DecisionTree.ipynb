{
 "cells": [
  {
   "cell_type": "code",
   "execution_count": 120,
   "metadata": {
    "collapsed": true
   },
   "outputs": [],
   "source": [
    "import numpy as np\n",
    "import scipy.io as sio\n",
    "import matplotlib.pyplot as plt\n",
    "from PIL import Image, ImageDraw\n",
    "from math import log2\n",
    "%matplotlib inline"
   ]
  },
  {
   "cell_type": "markdown",
   "metadata": {},
   "source": [
    "Loading Data and some utility functions"
   ]
  },
  {
   "cell_type": "code",
   "execution_count": 121,
   "metadata": {
    "collapsed": false
   },
   "outputs": [],
   "source": [
    "def load_clean_data():\n",
    "    data = sio.loadmat('cleandata_students.mat')\n",
    "    return data['x'], data['y']\n",
    "\n",
    "def load_noisy_data():\n",
    "    data = sio.loadmat('noisydata_students.mat')\n",
    "    return data['x'], data['y']"
   ]
  },
  {
   "cell_type": "markdown",
   "metadata": {},
   "source": [
    "Emotions conversion"
   ]
  },
  {
   "cell_type": "code",
   "execution_count": 122,
   "metadata": {
    "collapsed": true
   },
   "outputs": [],
   "source": [
    "EMOTIONS = ['anger', 'disgust', 'fear', 'happiness', 'sadness', 'surprise']\n",
    "\n",
    "def label_to_string(label):\n",
    "    if label == 1:\n",
    "        return 'anger'\n",
    "    elif label == 2:\n",
    "        return 'disgust'\n",
    "    elif label == 3:\n",
    "        return 'fear'\n",
    "    elif label == 4:\n",
    "        return 'happiness'\n",
    "    elif label == 5:\n",
    "        return 'sadness'\n",
    "    elif label == 6:\n",
    "        return 'surprise'\n",
    "    else:\n",
    "        return 'Unknown emotion label'\n",
    "\n",
    "def string_to_label(s):\n",
    "    if s == 'anger':\n",
    "        return 1\n",
    "    elif s == 'disgust':\n",
    "        return 2\n",
    "    elif s == 'fear':\n",
    "        return 3\n",
    "    elif s == 'happiness':\n",
    "        return 4\n",
    "    elif s == 'sadness':\n",
    "        return 5\n",
    "    elif s == 'surprise':\n",
    "        return 6\n",
    "    else:\n",
    "        return -1"
   ]
  },
  {
   "cell_type": "markdown",
   "metadata": {},
   "source": [
    "Auxiliary functions allowing tree training"
   ]
  },
  {
   "cell_type": "code",
   "execution_count": 123,
   "metadata": {
    "collapsed": true
   },
   "outputs": [],
   "source": [
    "# turns targets into binary targets depending on the emotion\n",
    "# the values are of bool type, but it's ok because False == 0 and True ==0\n",
    "def to_binary_targets(targets, emotion):\n",
    "    if isinstance(emotion, str):\n",
    "        emotion = string_to_label(emotion)\n",
    "    return (targets == emotion).astype(int)\n",
    "\n",
    "#Checking if binary targets contain of one value (point uniquely to answer)\n",
    "def all_the_same(bin_targets):\n",
    "    return np.all(bin_targets == bin_targets[0])\n",
    "\n",
    "#Returning majority value of binary targets\n",
    "def majority_value(bin_targets):\n",
    "    if np.sum(bin_targets) > (bin_targets.size/2):\n",
    "        return 1\n",
    "    return 0\n",
    "\n",
    "#Calculates recall on single tree\n",
    "def calculate_recall(tree, examples, binary_targets):\n",
    "    counter=0\n",
    "    for index in range(0,examples.shape[0]):\n",
    "        if classify(tree,examples[index],0)[0]==binary_targets[index]:\n",
    "            counter+=1\n",
    "    return counter/examples.shape[0]"
   ]
  },
  {
   "cell_type": "markdown",
   "metadata": {},
   "source": [
    "Decision Tree class"
   ]
  },
  {
   "cell_type": "code",
   "execution_count": 124,
   "metadata": {
    "collapsed": false
   },
   "outputs": [],
   "source": [
    "class Tree:\n",
    "    def __init__(self, op=None, kids=[], classification=None, pos=None, neg=None):\n",
    "        self.op = op\n",
    "        self.kids = kids\n",
    "        self.classification = classification   # tree.class from the specs, but class is a keyword\n",
    "        self.pos = pos\n",
    "        self.neg = neg\n",
    "    def is_leaf(self):\n",
    "        return (self.classification != None)\n",
    "    def count_leaves(self):\n",
    "        if self.is_leaf():\n",
    "            return 1\n",
    "        else:\n",
    "            return self.kids[0].count_leaves() + self.kids[1].count_leaves()\n",
    "\n",
    "def prune_tree(tree, validation_examples, binary_targets):\n",
    "    return prune_tree_aux(tree, tree, validation_examples, binary_targets)\n",
    "\n",
    "def prune_tree_aux(tree, node, validation_examples, binary_targets):\n",
    "    if not node.kids: # it's a leaf\n",
    "        return node\n",
    "    node.kids[0] = prune_tree_aux(tree, node.kids[0], validation_examples, binary_targets)\n",
    "    node.kids[1] = prune_tree_aux(tree, node.kids[1], validation_examples, binary_targets)\n",
    "    if node.kids[0].is_leaf() and node.kids[1].is_leaf():\n",
    "        initial_recall = calculate_recall(tree, validation_examples, binary_targets)\n",
    "        temp_kids = node.kids\n",
    "        temp_op = node.op\n",
    "        node.op = None\n",
    "        node.kids = []\n",
    "        \n",
    "        if node.pos > node.neg:\n",
    "            node.classification = 1\n",
    "        else:\n",
    "            node.classification = 0\n",
    "        end_recall = calculate_recall(tree, validation_examples, binary_targets)\n",
    "        \n",
    "        if end_recall < initial_recall:\n",
    "            node.classification = None\n",
    "            node.kids = temp_kids\n",
    "            node.op = temp_op\n",
    "    return node"
   ]
  },
  {
   "cell_type": "markdown",
   "metadata": {},
   "source": [
    "Functions for choosing the decision attribute"
   ]
  },
  {
   "cell_type": "code",
   "execution_count": 125,
   "metadata": {
    "collapsed": true
   },
   "outputs": [],
   "source": [
    "#Calculating entropy\n",
    "def entropy(p, n):\n",
    "    from math import log\n",
    "    if p+n == 0: return 0\n",
    "    a = p/(p+n)\n",
    "    b = n/(p+n)\n",
    "    log2 = lambda x: log(x)/log(2)\n",
    "    if a == 0 or b == 0:\n",
    "        return 0\n",
    "    return (-a*log2(a)-b*log2(b))\n",
    "\n",
    "\n",
    "#Performing IG calculation for given attribute\n",
    "def attribute_calculation(examples, index, binary_targets):\n",
    "    p0, n0, p1, n1 = 0, 0, 0, 0\n",
    "    for x in range(0, binary_targets.size):\n",
    "        if binary_targets[x] == 0:\n",
    "            if examples[x][index] == 1:\n",
    "                n1 += 1\n",
    "            else:\n",
    "                n0 += 1\n",
    "        else:\n",
    "            if examples[x][index] == 1:\n",
    "                p1 += 1\n",
    "            else:\n",
    "                p0 += 1\n",
    "\n",
    "    p = np.sum(binary_targets)\n",
    "    n = binary_targets.size-p\n",
    "\n",
    "    e1 = entropy(p, n)\n",
    "    e2 = entropy(p0, n0)\n",
    "    e3 = entropy(p1, n1)\n",
    "\n",
    "    remainder = (p0+n0)*e2/(p+n)+(p1+n1)*e3/(p+n)\n",
    "    return e1 - remainder\n",
    "\n",
    "#Choosing maximum IG\n",
    "def choose_best_decision_attribute(examples, attributes, binary_targets, threshold=0):\n",
    "    index = 0\n",
    "    max_gain = attribute_calculation(examples, index, binary_targets)\n",
    "    for x in range (0, attributes.size):\n",
    "        value = attribute_calculation(examples, x, binary_targets)\n",
    "        if max_gain < value:\n",
    "            max_gain = value\n",
    "            index = x\n",
    "    if max_gain < threshold:\n",
    "        return 0\n",
    "    return attributes[index]"
   ]
  },
  {
   "cell_type": "markdown",
   "metadata": {},
   "source": [
    "Learning"
   ]
  },
  {
   "cell_type": "code",
   "execution_count": 126,
   "metadata": {
    "collapsed": true
   },
   "outputs": [],
   "source": [
    "def decision_tree_learning(examples, attributes, bin_targets, threshold=0):\n",
    "    if examples.size == 0 or attributes.size == 0:\n",
    "        return Tree(classification=int(majority_value(bin_targets)), pos=np.sum(bin_targets), neg=bin_targets.size-np.sum(bin_targets))\n",
    "    elif all_the_same(bin_targets):\n",
    "        return Tree(classification=int(bin_targets[0]), pos=np.sum(bin_targets), neg=bin_targets.size-np.sum(bin_targets))\n",
    "    else:\n",
    "        best_attribute = choose_best_decision_attribute(examples, attributes, bin_targets, threshold)\n",
    "        if best_attribute == 0:\n",
    "            return Tree(classification=int(majority_value(bin_targets)), pos=np.sum(bin_targets), neg=bin_targets.size-np.sum(bin_targets))\n",
    "        index = np.where(attributes==best_attribute)\n",
    "        index = index[0][0]\n",
    "        attributes = np.delete(attributes, index)\n",
    "\n",
    "        ex1 = examples[examples[:,index]==1]\n",
    "        ex0 = examples[examples[:,index]==0]\n",
    "\n",
    "        bt1 = bin_targets[examples[:,index]==1]\n",
    "        bt0 = bin_targets[examples[:,index]==0]\n",
    "\n",
    "        ex1 = np.delete(ex1,index,axis=1)\n",
    "        ex0 = np.delete(ex0,index,axis=1)\n",
    "\n",
    "        t1 = decision_tree_learning(ex1, attributes, bt1, threshold)\n",
    "\n",
    "        t0 = decision_tree_learning(ex0, attributes, bt0, threshold)\n",
    "\n",
    "        return Tree(best_attribute, [t1,t0], pos=np.sum(bin_targets), neg=bin_targets.size-np.sum(bin_targets))"
   ]
  },
  {
   "cell_type": "markdown",
   "metadata": {},
   "source": [
    "Visualization"
   ]
  },
  {
   "cell_type": "code",
   "execution_count": 127,
   "metadata": {
    "collapsed": true
   },
   "outputs": [],
   "source": [
    "def tree_width(node):\n",
    "    if node.is_leaf():\n",
    "        return 1\n",
    "    return tree_width(node.kids[0]) + tree_width(node.kids[1])\n",
    "\n",
    "def tree_height(node):\n",
    "    if not node:\n",
    "        return 0\n",
    "    if not node.kids:\n",
    "        return 1\n",
    "    return max(tree_height(node.kids[0]), tree_height(node.kids[1])) + 1\n",
    "\n",
    "def draw_tree(draw, node, x, y):\n",
    "    if node.is_leaf():\n",
    "        draw.text((x-2,y), str(node.classification), (0,0,0))\n",
    "    else:\n",
    "        # false is the left branch\n",
    "        wt = tree_width(node.kids[1]) * 20\n",
    "        wf = tree_width(node.kids[0]) * 20\n",
    "        left = x - (wt + wf)/2\n",
    "        right = x + (wt + wf)/2\n",
    "        draw.text((x-2,y-1), str(node.op), (0,0,0))\n",
    "        draw.line((x,y,left+wf/2,y+30), fill=(255,0,0))\n",
    "        draw.line((x,y,right-wt/2,y+30), fill=(255,0,0))\n",
    "        draw_tree(draw, node.kids[0], left+wf/2, y+30)\n",
    "        draw_tree(draw, node.kids[1], right-wt/2, y+30)\n",
    "\n",
    "def visualize_tree(tree: object, filename: object = 'tree.jpg') -> object:\n",
    "    w = tree_width(tree) * 20\n",
    "    h = tree_height(tree) * 30 + 10\n",
    "    img = Image.new('RGB', (w,h), (255,255,255))\n",
    "    draw = ImageDraw.Draw(img)\n",
    "    draw_tree(draw, tree, w/2, 5)\n",
    "    img.save(filename,'JPEG')\n",
    "    plt.imshow(img)\n",
    "    plt.show()"
   ]
  },
  {
   "cell_type": "markdown",
   "metadata": {},
   "source": [
    "Visualization example"
   ]
  },
  {
   "cell_type": "code",
   "execution_count": 147,
   "metadata": {
    "collapsed": false
   },
   "outputs": [
    {
     "data": {
      "image/png": "[encoded data removed]",
      "text/plain": [
       "<matplotlib.figure.Figure at 0x2486971b828>"
      ]
     },
     "metadata": {},
     "output_type": "display_data"
    },
    {
     "data": {
      "image/png": "[encoded data removed]",
      "text/plain": [
       "<matplotlib.figure.Figure at 0x24869692080>"
      ]
     },
     "metadata": {},
     "output_type": "display_data"
    },
    {
     "data": {
      "image/png": "[encoded data removed]",
      "text/plain": [
       "<matplotlib.figure.Figure at 0x248695a2160>"
      ]
     },
     "metadata": {},
     "output_type": "display_data"
    },
    {
     "data": {
      "image/png": "[encoded data removed]",
      "text/plain": [
       "<matplotlib.figure.Figure at 0x248682f7a58>"
      ]
     },
     "metadata": {},
     "output_type": "display_data"
    },
    {
     "data": {
      "image/png": "[encoded data removed]",
      "text/plain": [
       "<matplotlib.figure.Figure at 0x2486960fcc0>"
      ]
     },
     "metadata": {},
     "output_type": "display_data"
    },
    {
     "data": {
      "image/png": "[encoded data removed]",
      "text/plain": [
       "<matplotlib.figure.Figure at 0x2486958a828>"
      ]
     },
     "metadata": {},
     "output_type": "display_data"
    }
   ],
   "source": [
    "# NOTE: the visualization is saved to tree.jpg file in the directory where this notebook is,\n",
    "#       it has bigger size\n",
    "if __name__ == '__main__':\n",
    "    thresholds=[0.04,0.07,0.05,0.05,0.07,0.04]\n",
    "    #thresholds=[0,0,0,0,0,0,0]\n",
    "    for i in range(6):\n",
    "        label=i+1\n",
    "        emotion = label_to_string(label)\n",
    "        examples, targets = load_clean_data()\n",
    "        binary_targets = to_binary_targets(targets, emotion)\n",
    "        attributes = np.array(['AU_' + str(x+1) for x in range(examples.shape[1])])\n",
    "        tree = decision_tree_learning(examples, attributes, binary_targets,threshold=thresholds[i])\n",
    "        visualize_tree(tree,'tree_'+label_to_string(i+1)+'.jpg')"
   ]
  },
  {
   "cell_type": "markdown",
   "metadata": {
    "collapsed": false
   },
   "source": [
    "Cross-validation"
   ]
  },
  {
   "cell_type": "code",
   "execution_count": 129,
   "metadata": {
    "collapsed": true
   },
   "outputs": [],
   "source": [
    "#Tests one tree, returns depth of classification and classification\n",
    "def classify(tree, features, depth=0):\n",
    "    if tree.classification != None:\n",
    "        return [tree.classification, depth+1]\n",
    "    if features[tree.op-1]==1:\n",
    "        return classify(tree.kids[0], features, depth+1)\n",
    "    else:\n",
    "        return classify(tree.kids[1], features, depth+1)\n",
    "\n",
    "# testTrees(T,x2) from the specs, but named test_trees for style\n",
    "#Tests set of trained trees T on x2\n",
    "def test_trees(T, x2, random=0):\n",
    "    L=[]\n",
    "    for index in range(0,x2.shape[0]):\n",
    "        depths_pos = []\n",
    "        out_pos = []\n",
    "        depths_neg = []\n",
    "        out_neg = []\n",
    "        for t_num in range(0,T.size):\n",
    "            test = classify(T[t_num],x2[index])\n",
    "            \n",
    "            if test[0]==1:\n",
    "                depths_pos.append(test[1])\n",
    "                out_pos.append(t_num+1)\n",
    "            else:\n",
    "                depths_neg.append(test[1])\n",
    "                out_neg.append(t_num+1)\n",
    "        if random:\n",
    "            import random\n",
    "            if len(out_pos)==0:\n",
    "                output=random.randint(1, 6)\n",
    "            else:\n",
    "                output=out_pos[random.randint(0,len(out_pos)-1)]\n",
    "        else:\n",
    "            if len(out_pos)==0:\n",
    "                output = out_neg[depths_neg.index(max(depths_neg))]\n",
    "            else:\n",
    "                output = out_pos[depths_pos.index(min(depths_pos))]\n",
    "        L.append(output)\n",
    "    return L"
   ]
  },
  {
   "cell_type": "markdown",
   "metadata": {},
   "source": [
    "Confusion matrix"
   ]
  },
  {
   "cell_type": "code",
   "execution_count": 130,
   "metadata": {
    "collapsed": true
   },
   "outputs": [],
   "source": [
    "#Creating confusion matrix\n",
    "\n",
    "def confusion_matrix_10_cross(examples, targets, threshold=[0,0,0,0,0,0], prune=0,random=0):\n",
    "    k = 10\n",
    "    N = len(targets)\n",
    "    foldN = N // k\n",
    "    confusion_matrix = np.zeros((6,6), dtype=np.int)\n",
    "\n",
    "    #i = ith cross-validation run\n",
    "    for i in range(k):\n",
    "        aux_x = np.vstack((examples[:i*foldN, :], examples[(i+1)*foldN:, :]))\n",
    "        aux_y = np.vstack((targets[:i*foldN, :], targets[(i+1)*foldN:, :]))\n",
    "        if prune:\n",
    "            import random\n",
    "            valid_fold = random.randint(0,k-4)\n",
    "            train_x = np.vstack((aux_x[:valid_fold*foldN, :], aux_x[(valid_fold+3)*foldN:, :]))\n",
    "            train_y = np.vstack((aux_y[:valid_fold*foldN, :], aux_y[(valid_fold+3)*foldN:, :]))\n",
    "            valid_x = aux_x[valid_fold*foldN:(valid_fold+3)*foldN, :]\n",
    "            valid_y = aux_y[valid_fold*foldN:(valid_fold+3)*foldN, :]\n",
    "        else:\n",
    "            train_x=aux_x\n",
    "            train_y=aux_y\n",
    "            \n",
    "        test_x = examples[i*foldN:(i+1)*foldN, :]\n",
    "        test_y = targets[i*foldN:(i+1)*foldN, :]\n",
    "        \n",
    "        attributes = np.arange(1, examples.shape[1]+1)\n",
    "\n",
    "        #Training on train data\n",
    "        L=[]\n",
    "        for i in range(1,7):\n",
    "            tree = decision_tree_learning(train_x, attributes, to_binary_targets(train_y,i), threshold[i-1])\n",
    "            if prune:\n",
    "                tree = prune_tree(tree, valid_x, to_binary_targets(valid_y,i))\n",
    "            L.append(tree)\n",
    "        T = np.array(L)\n",
    "\n",
    "        results = test_trees(T, test_x, random)\n",
    "\n",
    "        for i in range(0, test_y.size):\n",
    "            confusion_matrix[test_y[i] - 1, results[i] - 1]+=1\n",
    "            \n",
    "    return confusion_matrix"
   ]
  },
  {
   "cell_type": "markdown",
   "metadata": {},
   "source": [
    "Model accuracy depending on threshold"
   ]
  },
  {
   "cell_type": "code",
   "execution_count": 131,
   "metadata": {},
   "outputs": [
    {
     "data": {
      "image/png": "[encoded data removed]",
      "text/plain": [
       "<matplotlib.figure.Figure at 0x24868cad438>"
      ]
     },
     "metadata": {},
     "output_type": "display_data"
    }
   ],
   "source": [
    "if __name__ == '__main__':\n",
    "    xs = []\n",
    "    ys = []\n",
    "    x, y = load_clean_data()\n",
    "    \n",
    "    for i in range(20):\n",
    "        cm = confusion_matrix_10_cross(x,y,prune=0,threshold=[i*0.01,i*0.01,i*0.01,i*0.01,i*0.01,i*0.01])\n",
    "        xs.append(i*0.01)\n",
    "        ys.append((cm[0,0]+cm[1,1]+cm[2,2]+cm[3,3]+cm[4,4]+cm[5,5])/np.sum(cm))\n",
    "    xs=np.array(xs)\n",
    "    ys=np.array(ys)\n",
    "        \n",
    "    import matplotlib.pyplot as plt\n",
    "       \n",
    "    plt.scatter(xs,ys)\n",
    "    plt.plot(xs,ys)\n",
    "    plt.ylabel('Accuracy')\n",
    "    plt.xlabel('Threshold')\n",
    "    plt.savefig('figure.png')\n",
    "    plt.show()"
   ]
  },
  {
   "cell_type": "code",
   "execution_count": 132,
   "metadata": {
    "collapsed": false
   },
   "outputs": [],
   "source": [
    "'''\n",
    "def test_trees(trees, examples):\n",
    "    res = []\n",
    "    for i,example in enumerate(examples):\n",
    "        max_d = 0\n",
    "        max_e = 0\n",
    "        for j,tree in enumerate(trees):\n",
    "            (c, d) = classify(tree, example)\n",
    "            if c and max_d < d:\n",
    "                max_d = d\n",
    "                max_e = j+1\n",
    "        res.append([(max_e)])\n",
    "    return np.array(res)\n",
    "    \n",
    "def get_precision(predTargets, trueTargets):\n",
    "    return np.sum(predTargets == trueTargets) / predTargets.size\n",
    "    \n",
    "# k-fold validation\n",
    "def k_fold_validation(examples, targets, k, prune=False):\n",
    "    N = len(examples)\n",
    "    foldN = N // k\n",
    "    precs = []\n",
    "    for i in range(k):\n",
    "        print('Fold ' + str(i))\n",
    "        training_examples = np.vstack((examples[:i*foldN, :], examples[(i+1)*foldN:, :]))\n",
    "        training_targets = np.vstack((targets[:i*foldN, :], targets[(i+1)*foldN:, :]))\n",
    "        validation_examples = np.array([])\n",
    "        validation_targets = np.array([])\n",
    "        if prune:\n",
    "            T = len(training_examples)\n",
    "            validation_examples = training_examples[:(T//(k-1))]\n",
    "            validation_targets  = training_targets[:(T//(k-1))]\n",
    "            training_examples = training_examples[(T//(k-1)):]\n",
    "            training_targets = training_targets[(T//(k-1)):]\n",
    "        test_examples = examples[i*foldN:(i+1)*foldN, :]\n",
    "        test_targets = targets[i*foldN:(i+1)*foldN, :]\n",
    "        trees = []\n",
    "        for emotion in EMOTIONS:\n",
    "            print('  emotion = ' + emotion)\n",
    "            #attributes = np.array(['AU_' + str(x+1) for x in range(examples.shape[1])])\n",
    "            attributes = np.array(list(range(1, examples.shape[1]+1)))\n",
    "            binary_training_targets = to_binary_targets(training_targets, emotion)\n",
    "            tree = decision_tree_learning(training_examples, attributes, binary_training_targets)\n",
    "            if prune:\n",
    "                tree = prune_tree(tree, validation_examples, validation_targets)\n",
    "            trees.append(tree)\n",
    "        predictions = test_trees(trees, test_examples)\n",
    "        #print(predictions)\n",
    "        precision = get_precision(predictions, test_targets)\n",
    "        print(precision)\n",
    "        precs.append(precision)\n",
    "    print('PRECISION = ' + str(np.mean(np.array(precs))))\n",
    "'''"
   ]
  },
  {
   "cell_type": "markdown",
   "metadata": {
    "collapsed": false
   },
   "source": [
    "Crossvalidation of one tree"
   ]
  },
  {
   "cell_type": "code",
   "execution_count": 133,
   "metadata": {
    "collapsed": false
   },
   "outputs": [],
   "source": [
    "def crossvalidate_tree(examples, targets, emotion, threshold=0, random=0):\n",
    "    k = 10\n",
    "    N = len(targets)\n",
    "    foldN = N // k\n",
    "    precision=[]\n",
    "    #i = ith cross-validation run\n",
    "    for i in range(k):\n",
    "        train_x = np.vstack((examples[:i*foldN, :], examples[(i+1)*foldN:, :]))\n",
    "        train_y = np.vstack((targets[:i*foldN, :], targets[(i+1)*foldN:, :]))\n",
    "                   \n",
    "        test_x = examples[i*foldN:(i+1)*foldN, :]\n",
    "        test_y = targets[i*foldN:(i+1)*foldN, :]\n",
    "        \n",
    "        attributes = np.arange(1, examples.shape[1]+1)\n",
    "\n",
    "        #Training on train data\n",
    "        tree = decision_tree_learning(train_x, attributes, to_binary_targets(train_y,emotion), threshold)\n",
    "        \n",
    "        counter = 0\n",
    "        for i in range(test_y.size):\n",
    "            if classify(tree, test_x[i])[0]==to_binary_targets(test_y,emotion)[i]:\n",
    "                counter+=1\n",
    "        precision.append(counter/test_y.size)\n",
    "        \n",
    "\n",
    "    return sum(precision)/len(precision)"
   ]
  },
  {
   "cell_type": "code",
   "execution_count": 134,
   "metadata": {
    "collapsed": false
   },
   "outputs": [],
   "source": [
    "#if __name__ == '__main__':\n",
    "#    x, y = load_clean_data()\n",
    "#    k_fold_validation(x, y, 10, prune=True)"
   ]
  },
  {
   "cell_type": "code",
   "execution_count": 144,
   "metadata": {
    "collapsed": false
   },
   "outputs": [
    {
     "name": "stdout",
     "output_type": "stream",
     "text": [
      "== Model with optimized thresholds, selection depending on depth ==\n"
     ]
    },
    {
     "name": "stdout",
     "output_type": "stream",
     "text": [
      "[[104   6   3   4  13   1]\n [ 15 162   2   5  12   2]\n [  3   4  89   3   3  16]\n [  0   7   0 200   3   5]\n [ 20  12   5   8  76  11]\n [  2   6  12   6   5 175]]\n0.806\n===\n== Model with no thresholds, selection depending on depth ==\n"
     ]
    },
    {
     "ename": "KeyboardInterrupt",
     "evalue": "",
     "traceback": [
      "\u001b[0;31m---------------------------------------------------------------------------\u001b[0m",
      "\u001b[0;31mKeyboardInterrupt\u001b[0m                         Traceback (most recent call last)",
      "\u001b[0;32m<ipython-input-144-d048bf400955>\u001b[0m in \u001b[0;36m<module>\u001b[0;34m()\u001b[0m\n\u001b[1;32m     21\u001b[0m \u001b[1;33m\u001b[0m\u001b[0m\n\u001b[1;32m     22\u001b[0m     \u001b[0mprint\u001b[0m\u001b[1;33m(\u001b[0m\u001b[1;34m'== Model with no thresholds, selection depending on depth =='\u001b[0m\u001b[1;33m)\u001b[0m\u001b[1;33m\u001b[0m\u001b[0m\n\u001b[0;32m---> 23\u001b[0;31m     \u001b[0mcm\u001b[0m \u001b[1;33m=\u001b[0m \u001b[0mconfusion_matrix_10_cross\u001b[0m\u001b[1;33m(\u001b[0m\u001b[0mx\u001b[0m\u001b[1;33m,\u001b[0m\u001b[0my\u001b[0m\u001b[1;33m,\u001b[0m\u001b[0mprune\u001b[0m\u001b[1;33m=\u001b[0m\u001b[1;36m0\u001b[0m\u001b[1;33m)\u001b[0m\u001b[1;33m\u001b[0m\u001b[0m\n\u001b[0m\u001b[1;32m     24\u001b[0m     \u001b[0mprint\u001b[0m\u001b[1;33m(\u001b[0m\u001b[0mcm\u001b[0m\u001b[1;33m)\u001b[0m\u001b[1;33m\u001b[0m\u001b[0m\n\u001b[1;32m     25\u001b[0m     \u001b[0mprint\u001b[0m\u001b[1;33m(\u001b[0m\u001b[1;33m(\u001b[0m\u001b[0mcm\u001b[0m\u001b[1;33m[\u001b[0m\u001b[1;36m0\u001b[0m\u001b[1;33m,\u001b[0m\u001b[1;36m0\u001b[0m\u001b[1;33m]\u001b[0m\u001b[1;33m+\u001b[0m\u001b[0mcm\u001b[0m\u001b[1;33m[\u001b[0m\u001b[1;36m1\u001b[0m\u001b[1;33m,\u001b[0m\u001b[1;36m1\u001b[0m\u001b[1;33m]\u001b[0m\u001b[1;33m+\u001b[0m\u001b[0mcm\u001b[0m\u001b[1;33m[\u001b[0m\u001b[1;36m2\u001b[0m\u001b[1;33m,\u001b[0m\u001b[1;36m2\u001b[0m\u001b[1;33m]\u001b[0m\u001b[1;33m+\u001b[0m\u001b[0mcm\u001b[0m\u001b[1;33m[\u001b[0m\u001b[1;36m3\u001b[0m\u001b[1;33m,\u001b[0m\u001b[1;36m3\u001b[0m\u001b[1;33m]\u001b[0m\u001b[1;33m+\u001b[0m\u001b[0mcm\u001b[0m\u001b[1;33m[\u001b[0m\u001b[1;36m4\u001b[0m\u001b[1;33m,\u001b[0m\u001b[1;36m4\u001b[0m\u001b[1;33m]\u001b[0m\u001b[1;33m+\u001b[0m\u001b[0mcm\u001b[0m\u001b[1;33m[\u001b[0m\u001b[1;36m5\u001b[0m\u001b[1;33m,\u001b[0m\u001b[1;36m5\u001b[0m\u001b[1;33m]\u001b[0m\u001b[1;33m)\u001b[0m\u001b[1;33m/\u001b[0m\u001b[0mnp\u001b[0m\u001b[1;33m.\u001b[0m\u001b[0msum\u001b[0m\u001b[1;33m(\u001b[0m\u001b[0mcm\u001b[0m\u001b[1;33m)\u001b[0m\u001b[1;33m)\u001b[0m\u001b[1;33m\u001b[0m\u001b[0m\n",
      "\u001b[0;32m<ipython-input-129-9b554b6531bb>\u001b[0m in \u001b[0;36mconfusion_matrix_10_cross\u001b[0;34m(examples, targets, threshold, prune, random)\u001b[0m\n\u001b[1;32m     30\u001b[0m         \u001b[0mL\u001b[0m\u001b[1;33m=\u001b[0m\u001b[1;33m[\u001b[0m\u001b[1;33m]\u001b[0m\u001b[1;33m\u001b[0m\u001b[0m\n\u001b[1;32m     31\u001b[0m         \u001b[1;32mfor\u001b[0m \u001b[0mi\u001b[0m \u001b[1;32min\u001b[0m \u001b[0mrange\u001b[0m\u001b[1;33m(\u001b[0m\u001b[1;36m1\u001b[0m\u001b[1;33m,\u001b[0m\u001b[1;36m7\u001b[0m\u001b[1;33m)\u001b[0m\u001b[1;33m:\u001b[0m\u001b[1;33m\u001b[0m\u001b[0m\n\u001b[0;32m---> 32\u001b[0;31m             \u001b[0mtree\u001b[0m \u001b[1;33m=\u001b[0m \u001b[0mdecision_tree_learning\u001b[0m\u001b[1;33m(\u001b[0m\u001b[0mtrain_x\u001b[0m\u001b[1;33m,\u001b[0m \u001b[0mattributes\u001b[0m\u001b[1;33m,\u001b[0m \u001b[0mto_binary_targets\u001b[0m\u001b[1;33m(\u001b[0m\u001b[0mtrain_y\u001b[0m\u001b[1;33m,\u001b[0m\u001b[0mi\u001b[0m\u001b[1;33m)\u001b[0m\u001b[1;33m,\u001b[0m \u001b[0mthreshold\u001b[0m\u001b[1;33m[\u001b[0m\u001b[0mi\u001b[0m\u001b[1;33m-\u001b[0m\u001b[1;36m1\u001b[0m\u001b[1;33m]\u001b[0m\u001b[1;33m)\u001b[0m\u001b[1;33m\u001b[0m\u001b[0m\n\u001b[0m\u001b[1;32m     33\u001b[0m             \u001b[1;32mif\u001b[0m \u001b[0mprune\u001b[0m\u001b[1;33m:\u001b[0m\u001b[1;33m\u001b[0m\u001b[0m\n\u001b[1;32m     34\u001b[0m                 \u001b[0mtree\u001b[0m \u001b[1;33m=\u001b[0m \u001b[0mprune_tree\u001b[0m\u001b[1;33m(\u001b[0m\u001b[0mtree\u001b[0m\u001b[1;33m,\u001b[0m \u001b[0mvalid_x\u001b[0m\u001b[1;33m,\u001b[0m \u001b[0mto_binary_targets\u001b[0m\u001b[1;33m(\u001b[0m\u001b[0mvalid_y\u001b[0m\u001b[1;33m,\u001b[0m\u001b[0mi\u001b[0m\u001b[1;33m)\u001b[0m\u001b[1;33m)\u001b[0m\u001b[1;33m\u001b[0m\u001b[0m\n",
      "\u001b[0;32m<ipython-input-125-7ceee5aa3031>\u001b[0m in \u001b[0;36mdecision_tree_learning\u001b[0;34m(examples, attributes, bin_targets, threshold)\u001b[0m\n\u001b[1;32m     23\u001b[0m         \u001b[0mt1\u001b[0m \u001b[1;33m=\u001b[0m \u001b[0mdecision_tree_learning\u001b[0m\u001b[1;33m(\u001b[0m\u001b[0mex1\u001b[0m\u001b[1;33m,\u001b[0m \u001b[0mattributes\u001b[0m\u001b[1;33m,\u001b[0m \u001b[0mbt1\u001b[0m\u001b[1;33m,\u001b[0m \u001b[0mthreshold\u001b[0m\u001b[1;33m)\u001b[0m\u001b[1;33m\u001b[0m\u001b[0m\n\u001b[1;32m     24\u001b[0m \u001b[1;33m\u001b[0m\u001b[0m\n\u001b[0;32m---> 25\u001b[0;31m         \u001b[0mt0\u001b[0m \u001b[1;33m=\u001b[0m \u001b[0mdecision_tree_learning\u001b[0m\u001b[1;33m(\u001b[0m\u001b[0mex0\u001b[0m\u001b[1;33m,\u001b[0m \u001b[0mattributes\u001b[0m\u001b[1;33m,\u001b[0m \u001b[0mbt0\u001b[0m\u001b[1;33m,\u001b[0m \u001b[0mthreshold\u001b[0m\u001b[1;33m)\u001b[0m\u001b[1;33m\u001b[0m\u001b[0m\n\u001b[0m\u001b[1;32m     26\u001b[0m \u001b[1;33m\u001b[0m\u001b[0m\n\u001b[1;32m     27\u001b[0m         \u001b[1;32mreturn\u001b[0m \u001b[0mTree\u001b[0m\u001b[1;33m(\u001b[0m\u001b[0mbest_attribute\u001b[0m\u001b[1;33m,\u001b[0m \u001b[1;33m[\u001b[0m\u001b[0mt1\u001b[0m\u001b[1;33m,\u001b[0m\u001b[0mt0\u001b[0m\u001b[1;33m]\u001b[0m\u001b[1;33m,\u001b[0m \u001b[0mpos\u001b[0m\u001b[1;33m=\u001b[0m\u001b[0mnp\u001b[0m\u001b[1;33m.\u001b[0m\u001b[0msum\u001b[0m\u001b[1;33m(\u001b[0m\u001b[0mbin_targets\u001b[0m\u001b[1;33m)\u001b[0m\u001b[1;33m,\u001b[0m \u001b[0mneg\u001b[0m\u001b[1;33m=\u001b[0m\u001b[0mbin_targets\u001b[0m\u001b[1;33m.\u001b[0m\u001b[0msize\u001b[0m\u001b[1;33m-\u001b[0m\u001b[0mnp\u001b[0m\u001b[1;33m.\u001b[0m\u001b[0msum\u001b[0m\u001b[1;33m(\u001b[0m\u001b[0mbin_targets\u001b[0m\u001b[1;33m)\u001b[0m\u001b[1;33m)\u001b[0m\u001b[1;33m\u001b[0m\u001b[0m\n",
      "\u001b[0;32m<ipython-input-125-7ceee5aa3031>\u001b[0m in \u001b[0;36mdecision_tree_learning\u001b[0;34m(examples, attributes, bin_targets, threshold)\u001b[0m\n\u001b[1;32m      5\u001b[0m         \u001b[1;32mreturn\u001b[0m \u001b[0mTree\u001b[0m\u001b[1;33m(\u001b[0m\u001b[0mclassification\u001b[0m\u001b[1;33m=\u001b[0m\u001b[0mint\u001b[0m\u001b[1;33m(\u001b[0m\u001b[0mbin_targets\u001b[0m\u001b[1;33m[\u001b[0m\u001b[1;36m0\u001b[0m\u001b[1;33m]\u001b[0m\u001b[1;33m)\u001b[0m\u001b[1;33m,\u001b[0m \u001b[0mpos\u001b[0m\u001b[1;33m=\u001b[0m\u001b[0mnp\u001b[0m\u001b[1;33m.\u001b[0m\u001b[0msum\u001b[0m\u001b[1;33m(\u001b[0m\u001b[0mbin_targets\u001b[0m\u001b[1;33m)\u001b[0m\u001b[1;33m,\u001b[0m \u001b[0mneg\u001b[0m\u001b[1;33m=\u001b[0m\u001b[0mbin_targets\u001b[0m\u001b[1;33m.\u001b[0m\u001b[0msize\u001b[0m\u001b[1;33m-\u001b[0m\u001b[0mnp\u001b[0m\u001b[1;33m.\u001b[0m\u001b[0msum\u001b[0m\u001b[1;33m(\u001b[0m\u001b[0mbin_targets\u001b[0m\u001b[1;33m)\u001b[0m\u001b[1;33m)\u001b[0m\u001b[1;33m\u001b[0m\u001b[0m\n\u001b[1;32m      6\u001b[0m     \u001b[1;32melse\u001b[0m\u001b[1;33m:\u001b[0m\u001b[1;33m\u001b[0m\u001b[0m\n\u001b[0;32m----> 7\u001b[0;31m         \u001b[0mbest_attribute\u001b[0m \u001b[1;33m=\u001b[0m \u001b[0mchoose_best_decision_attribute\u001b[0m\u001b[1;33m(\u001b[0m\u001b[0mexamples\u001b[0m\u001b[1;33m,\u001b[0m \u001b[0mattributes\u001b[0m\u001b[1;33m,\u001b[0m \u001b[0mbin_targets\u001b[0m\u001b[1;33m,\u001b[0m \u001b[0mthreshold\u001b[0m\u001b[1;33m)\u001b[0m\u001b[1;33m\u001b[0m\u001b[0m\n\u001b[0m\u001b[1;32m      8\u001b[0m         \u001b[1;32mif\u001b[0m \u001b[0mbest_attribute\u001b[0m \u001b[1;33m==\u001b[0m \u001b[1;36m0\u001b[0m\u001b[1;33m:\u001b[0m\u001b[1;33m\u001b[0m\u001b[0m\n\u001b[1;32m      9\u001b[0m             \u001b[1;32mreturn\u001b[0m \u001b[0mTree\u001b[0m\u001b[1;33m(\u001b[0m\u001b[0mclassification\u001b[0m\u001b[1;33m=\u001b[0m\u001b[0mint\u001b[0m\u001b[1;33m(\u001b[0m\u001b[0mmajority_value\u001b[0m\u001b[1;33m(\u001b[0m\u001b[0mbin_targets\u001b[0m\u001b[1;33m)\u001b[0m\u001b[1;33m)\u001b[0m\u001b[1;33m,\u001b[0m \u001b[0mpos\u001b[0m\u001b[1;33m=\u001b[0m\u001b[0mnp\u001b[0m\u001b[1;33m.\u001b[0m\u001b[0msum\u001b[0m\u001b[1;33m(\u001b[0m\u001b[0mbin_targets\u001b[0m\u001b[1;33m)\u001b[0m\u001b[1;33m,\u001b[0m \u001b[0mneg\u001b[0m\u001b[1;33m=\u001b[0m\u001b[0mbin_targets\u001b[0m\u001b[1;33m.\u001b[0m\u001b[0msize\u001b[0m\u001b[1;33m-\u001b[0m\u001b[0mnp\u001b[0m\u001b[1;33m.\u001b[0m\u001b[0msum\u001b[0m\u001b[1;33m(\u001b[0m\u001b[0mbin_targets\u001b[0m\u001b[1;33m)\u001b[0m\u001b[1;33m)\u001b[0m\u001b[1;33m\u001b[0m\u001b[0m\n",
      "\u001b[0;32m<ipython-input-124-5b95f6edc216>\u001b[0m in \u001b[0;36mchoose_best_decision_attribute\u001b[0;34m(examples, attributes, binary_targets, threshold)\u001b[0m\n\u001b[1;32m     41\u001b[0m     \u001b[0mmax_gain\u001b[0m \u001b[1;33m=\u001b[0m \u001b[0mattribute_calculation\u001b[0m\u001b[1;33m(\u001b[0m\u001b[0mexamples\u001b[0m\u001b[1;33m,\u001b[0m \u001b[0mindex\u001b[0m\u001b[1;33m,\u001b[0m \u001b[0mbinary_targets\u001b[0m\u001b[1;33m)\u001b[0m\u001b[1;33m\u001b[0m\u001b[0m\n\u001b[1;32m     42\u001b[0m     \u001b[1;32mfor\u001b[0m \u001b[0mx\u001b[0m \u001b[1;32min\u001b[0m \u001b[0mrange\u001b[0m \u001b[1;33m(\u001b[0m\u001b[1;36m0\u001b[0m\u001b[1;33m,\u001b[0m \u001b[0mattributes\u001b[0m\u001b[1;33m.\u001b[0m\u001b[0msize\u001b[0m\u001b[1;33m)\u001b[0m\u001b[1;33m:\u001b[0m\u001b[1;33m\u001b[0m\u001b[0m\n\u001b[0;32m---> 43\u001b[0;31m         \u001b[0mvalue\u001b[0m \u001b[1;33m=\u001b[0m \u001b[0mattribute_calculation\u001b[0m\u001b[1;33m(\u001b[0m\u001b[0mexamples\u001b[0m\u001b[1;33m,\u001b[0m \u001b[0mx\u001b[0m\u001b[1;33m,\u001b[0m \u001b[0mbinary_targets\u001b[0m\u001b[1;33m)\u001b[0m\u001b[1;33m\u001b[0m\u001b[0m\n\u001b[0m\u001b[1;32m     44\u001b[0m         \u001b[1;32mif\u001b[0m \u001b[0mmax_gain\u001b[0m \u001b[1;33m<\u001b[0m \u001b[0mvalue\u001b[0m\u001b[1;33m:\u001b[0m\u001b[1;33m\u001b[0m\u001b[0m\n\u001b[1;32m     45\u001b[0m             \u001b[0mmax_gain\u001b[0m \u001b[1;33m=\u001b[0m \u001b[0mvalue\u001b[0m\u001b[1;33m\u001b[0m\u001b[0m\n",
      "\u001b[0;32m<ipython-input-124-5b95f6edc216>\u001b[0m in \u001b[0;36mattribute_calculation\u001b[0;34m(examples, index, binary_targets)\u001b[0m\n\u001b[1;32m     16\u001b[0m     \u001b[1;32mfor\u001b[0m \u001b[0mx\u001b[0m \u001b[1;32min\u001b[0m \u001b[0mrange\u001b[0m\u001b[1;33m(\u001b[0m\u001b[1;36m0\u001b[0m\u001b[1;33m,\u001b[0m \u001b[0mbinary_targets\u001b[0m\u001b[1;33m.\u001b[0m\u001b[0msize\u001b[0m\u001b[1;33m)\u001b[0m\u001b[1;33m:\u001b[0m\u001b[1;33m\u001b[0m\u001b[0m\n\u001b[1;32m     17\u001b[0m         \u001b[1;32mif\u001b[0m \u001b[0mbinary_targets\u001b[0m\u001b[1;33m[\u001b[0m\u001b[0mx\u001b[0m\u001b[1;33m]\u001b[0m \u001b[1;33m==\u001b[0m \u001b[1;36m0\u001b[0m\u001b[1;33m:\u001b[0m\u001b[1;33m\u001b[0m\u001b[0m\n\u001b[0;32m---> 18\u001b[0;31m             \u001b[1;32mif\u001b[0m \u001b[0mexamples\u001b[0m\u001b[1;33m[\u001b[0m\u001b[0mx\u001b[0m\u001b[1;33m]\u001b[0m\u001b[1;33m[\u001b[0m\u001b[0mindex\u001b[0m\u001b[1;33m]\u001b[0m \u001b[1;33m==\u001b[0m \u001b[1;36m1\u001b[0m\u001b[1;33m:\u001b[0m\u001b[1;33m\u001b[0m\u001b[0m\n\u001b[0m\u001b[1;32m     19\u001b[0m                 \u001b[0mn1\u001b[0m \u001b[1;33m+=\u001b[0m \u001b[1;36m1\u001b[0m\u001b[1;33m\u001b[0m\u001b[0m\n\u001b[1;32m     20\u001b[0m             \u001b[1;32melse\u001b[0m\u001b[1;33m:\u001b[0m\u001b[1;33m\u001b[0m\u001b[0m\n",
      "\u001b[0;31mKeyboardInterrupt\u001b[0m: "
     ],
     "output_type": "error"
    }
   ],
   "source": [
    "if __name__ == '__main__':\n",
    "    \n",
    "    x, y = load_clean_data()\n",
    "         \n",
    "    print('== Model with optimized thresholds, selection depending on depth ==')\n",
    "    cm = confusion_matrix_10_cross(x,y,prune=0,threshold=[0.04,0.07,0.05,0.05,0.07,0.04])\n",
    "    print(cm)\n",
    "    print((cm[0,0]+cm[1,1]+cm[2,2]+cm[3,3]+cm[4,4]+cm[5,5])/np.sum(cm))\n",
    "    print('===')\n",
    "    \n",
    "    print('== Model with no thresholds, selection depending on depth ==')\n",
    "    cm = confusion_matrix_10_cross(x,y,prune=0)\n",
    "    print(cm)\n",
    "    print((cm[0,0]+cm[1,1]+cm[2,2]+cm[3,3]+cm[4,4]+cm[5,5])/np.sum(cm))\n",
    "    print('===')\n",
    "    \n",
    "    \n",
    "    print('== Model with no thresholds, random selection ==')\n",
    "    cm = confusion_matrix_10_cross(x,y,prune=0,random=1)\n",
    "    print(cm)\n",
    "    print((cm[0,0]+cm[1,1]+cm[2,2]+cm[3,3]+cm[4,4]+cm[5,5])/np.sum(cm))\n",
    "    print('===')"
   ]
  },
  {
   "cell_type": "code",
   "execution_count": null,
   "metadata": {},
   "outputs": [],
   "source": [
    ""
   ]
  }
 ],
 "metadata": {
  "kernelspec": {
   "display_name": "Python 3",
   "language": "python",
   "name": "python3"
  },
  "language_info": {
   "codemirror_mode": {
    "name": "ipython",
    "version": 3.0
   },
   "file_extension": ".py",
   "mimetype": "text/x-python",
   "name": "python",
   "nbconvert_exporter": "python",
   "pygments_lexer": "ipython3",
   "version": "3.4.3"
  }
 },
 "nbformat": 4,
 "nbformat_minor": 0
}