{
 "cells": [
  {
   "cell_type": "code",
   "execution_count": 37,
   "metadata": {
    "collapsed": true
   },
   "outputs": [],
   "source": [
    "import numpy as np\n",
    "import scipy.io as sio\n",
    "import matplotlib.pyplot as plt\n",
    "from PIL import Image, ImageDraw\n",
    "from math import log2\n",
    "%matplotlib inline"
   ]
  },
  {
   "cell_type": "markdown",
   "metadata": {},
   "source": [
    "Loading Data and some utility functions"
   ]
  },
  {
   "cell_type": "code",
   "execution_count": 38,
   "metadata": {
    "collapsed": false
   },
   "outputs": [],
   "source": [
    "def load_clean_data():\n",
    "    data = sio.loadmat('cleandata_students.mat')\n",
    "    return data['x'], data['y']\n",
    "\n",
    "def load_noisy_data():\n",
    "    data = sio.loadmat('noisydata_students.mat')\n",
    "    return data['x'], data['y']"
   ]
  },
  {
   "cell_type": "markdown",
   "metadata": {},
   "source": [
    "Emotions conversion"
   ]
  },
  {
   "cell_type": "code",
   "execution_count": 39,
   "metadata": {
    "collapsed": true
   },
   "outputs": [],
   "source": [
    "EMOTIONS = ['anger', 'disgust', 'fear', 'happiness', 'sadness', 'surprise']\n",
    "\n",
    "def label_to_string(label):\n",
    "    if label == 1:\n",
    "        return 'anger'\n",
    "    elif label == 2:\n",
    "        return 'disgust'\n",
    "    elif label == 3:\n",
    "        return 'fear'\n",
    "    elif label == 4:\n",
    "        return 'happiness'\n",
    "    elif label == 5:\n",
    "        return 'sadness'\n",
    "    elif label == 6:\n",
    "        return 'surprise'\n",
    "    else:\n",
    "        return 'Unknown emotion label'\n",
    "\n",
    "def string_to_label(s):\n",
    "    if s == 'anger':\n",
    "        return 1\n",
    "    elif s == 'disgust':\n",
    "        return 2\n",
    "    elif s == 'fear':\n",
    "        return 3\n",
    "    elif s == 'happiness':\n",
    "        return 4\n",
    "    elif s == 'sadness':\n",
    "        return 5\n",
    "    elif s == 'surprise':\n",
    "        return 6\n",
    "    else:\n",
    "        return -1"
   ]
  },
  {
   "cell_type": "markdown",
   "metadata": {},
   "source": [
    "Auxiliary functions allowing tree training"
   ]
  },
  {
   "cell_type": "code",
   "execution_count": 40,
   "metadata": {
    "collapsed": true
   },
   "outputs": [],
   "source": [
    "# turns targets into binary targets depending on the emotion\n",
    "# the values are of bool type, but it's ok because False == 0 and True ==0\n",
    "def to_binary_targets(targets, emotion):\n",
    "    if isinstance(emotion, str):\n",
    "        emotion = string_to_label(emotion)\n",
    "    return (targets == emotion).astype(int)\n",
    "\n",
    "#Checking if binary targets contain of one value (point uniquely to answer)\n",
    "def all_the_same(bin_targets):\n",
    "    return np.all(bin_targets == bin_targets[0])\n",
    "\n",
    "#Returning majority value of binary targets\n",
    "def majority_value(bin_targets):\n",
    "    if np.sum(bin_targets) > (bin_targets.size/2):\n",
    "        return 1\n",
    "    return 0\n",
    "\n",
    "#Calculates classification_rate on single tree\n",
    "def calculate_classification_rate(tree, examples, binary_targets):\n",
    "    counter=0\n",
    "    for index in range(0,examples.shape[0]):\n",
    "        if classify(tree,examples[index],0)[0]==binary_targets[index]:\n",
    "            counter+=1\n",
    "    return counter/examples.shape[0]"
   ]
  },
  {
   "cell_type": "markdown",
   "metadata": {},
   "source": [
    "Decision Tree class"
   ]
  },
  {
   "cell_type": "code",
   "execution_count": 41,
   "metadata": {
    "collapsed": false
   },
   "outputs": [],
   "source": [
    "class Tree:\n",
    "    def __init__(self, op=None, kids=[], classification=None, pos=None, neg=None):\n",
    "        self.op = op\n",
    "        self.kids = kids\n",
    "        self.classification = classification   # tree.class from the specs, but class is a keyword\n",
    "        self.pos = pos\n",
    "        self.neg = neg\n",
    "    def is_leaf(self):\n",
    "        return (self.classification != None)\n",
    "    def count_leaves(self):\n",
    "        if self.is_leaf():\n",
    "            return 1\n",
    "        else:\n",
    "            return self.kids[0].count_leaves() + self.kids[1].count_leaves()"
   ]
  },
  {
   "cell_type": "code",
   "execution_count": 42,
   "metadata": {
    "collapsed": true
   },
   "outputs": [],
   "source": [
    "# converts a Tree to a Matlab struct\n",
    "def save_tree_to_matlab_struct(tree, filename='tree.mat'):\n",
    "    t = tree_to_matlab_struct_aux(tree)\n",
    "    d = {'tree' : t}\n",
    "    sio.savemat(filename, d)\n",
    "    \n",
    "def tree_to_matlab_struct_aux(tree):\n",
    "    d = {}\n",
    "    if tree.is_leaf():\n",
    "        d['kids'] = []\n",
    "        d['class'] = tree.classification\n",
    "        d['op'] = []\n",
    "    else:\n",
    "        k0 = tree_to_matlab_struct_aux(tree.kids[0])\n",
    "        k1 = tree_to_matlab_struct_aux(tree.kids[1])\n",
    "        d['kids'] = [k0, k1]\n",
    "        d['class'] = []\n",
    "        d['op'] = tree.op\n",
    "    return d\n",
    "\n",
    "#Loading tree from saved mat file\n",
    "def load_from_mat(file):\n",
    "    load=sio.loadmat(file)\n",
    "    t_mat=load['tree']\n",
    "    return(load_from_mat_aux(t_mat))\n",
    "\n",
    "def load_from_mat_aux(t_mat):\n",
    "    if t_mat['op'][0][0].size==0:\n",
    "        return(Tree(classification=t_mat['class'][0][0][0][0]))\n",
    "    else:\n",
    "        return(Tree(op=t_mat['op'][0][0][0][0],kids=[load_from_mat_aux(t_mat['kids'][0][0][0][0]),load_from_mat_aux(t_mat['kids'][0][0][0][1])]))"
   ]
  },
  {
   "cell_type": "code",
   "execution_count": 43,
   "metadata": {
    "collapsed": true
   },
   "outputs": [],
   "source": [
    "def prune_tree(tree, validation_examples, binary_targets):\n",
    "    return prune_tree_aux(tree, tree, validation_examples, binary_targets)\n",
    "\n",
    "def prune_tree_aux(tree, node, validation_examples, binary_targets):\n",
    "    if not node.kids: # it's a leaf\n",
    "        return node\n",
    "    node.kids[0] = prune_tree_aux(tree, node.kids[0], validation_examples, binary_targets)\n",
    "    node.kids[1] = prune_tree_aux(tree, node.kids[1], validation_examples, binary_targets)\n",
    "    if node.kids[0].is_leaf() and node.kids[1].is_leaf():\n",
    "        initial_classification_rate = calculate_classification_rate(tree, validation_examples, binary_targets)\n",
    "        temp_kids = node.kids\n",
    "        temp_op = node.op\n",
    "        node.op = None\n",
    "        node.kids = []\n",
    "        \n",
    "        if node.pos > node.neg:\n",
    "            node.classification = 1\n",
    "        else:\n",
    "            node.classification = 0\n",
    "        end_classification_rate = calculate_classification_rate(tree, validation_examples, binary_targets)\n",
    "        \n",
    "        if end_classification_rate < initial_classification_rate:\n",
    "            node.classification = None\n",
    "            node.kids = temp_kids\n",
    "            node.op = temp_op\n",
    "    return node"
   ]
  },
  {
   "cell_type": "markdown",
   "metadata": {},
   "source": [
    "Functions for choosing the decision attribute"
   ]
  },
  {
   "cell_type": "code",
   "execution_count": 44,
   "metadata": {
    "collapsed": true
   },
   "outputs": [],
   "source": [
    "#Calculating entropy\n",
    "def entropy(p, n):\n",
    "    from math import log\n",
    "    if p+n == 0: return 0\n",
    "    a = p/(p+n)\n",
    "    b = n/(p+n)\n",
    "    log2 = lambda x: log(x)/log(2)\n",
    "    if a == 0 or b == 0:\n",
    "        return 0\n",
    "    return (-a*log2(a)-b*log2(b))\n",
    "\n",
    "\n",
    "#Performing IG calculation for given attribute\n",
    "def attribute_calculation(examples, index, binary_targets):\n",
    "    p0, n0, p1, n1 = 0, 0, 0, 0\n",
    "    for x in range(0, binary_targets.size):\n",
    "        if binary_targets[x] == 0:\n",
    "            if examples[x][index] == 1:\n",
    "                n1 += 1\n",
    "            else:\n",
    "                n0 += 1\n",
    "        else:\n",
    "            if examples[x][index] == 1:\n",
    "                p1 += 1\n",
    "            else:\n",
    "                p0 += 1\n",
    "\n",
    "    p = np.sum(binary_targets)\n",
    "    n = binary_targets.size-p\n",
    "\n",
    "    e1 = entropy(p, n)\n",
    "    e2 = entropy(p0, n0)\n",
    "    e3 = entropy(p1, n1)\n",
    "\n",
    "    remainder = (p0+n0)*e2/(p+n)+(p1+n1)*e3/(p+n)\n",
    "    return e1 - remainder\n",
    "\n",
    "#Choosing maximum IG\n",
    "def choose_best_decision_attribute(examples, attributes, binary_targets, threshold=0):\n",
    "    index = 0\n",
    "    max_gain = attribute_calculation(examples, index, binary_targets)\n",
    "    for x in range (0, attributes.size):\n",
    "        value = attribute_calculation(examples, x, binary_targets)\n",
    "        if max_gain < value:\n",
    "            max_gain = value\n",
    "            index = x\n",
    "    if max_gain < threshold:\n",
    "        return 0\n",
    "    return attributes[index]"
   ]
  },
  {
   "cell_type": "markdown",
   "metadata": {},
   "source": [
    "Learning"
   ]
  },
  {
   "cell_type": "code",
   "execution_count": 45,
   "metadata": {
    "collapsed": true
   },
   "outputs": [],
   "source": [
    "def decision_tree_learning(examples, attributes, bin_targets, threshold=0):\n",
    "    if examples.size == 0 or attributes.size == 0:\n",
    "        return Tree(classification=int(majority_value(bin_targets)), pos=np.sum(bin_targets), neg=bin_targets.size-np.sum(bin_targets))\n",
    "    elif all_the_same(bin_targets):\n",
    "        return Tree(classification=int(bin_targets[0]), pos=np.sum(bin_targets), neg=bin_targets.size-np.sum(bin_targets))\n",
    "    else:\n",
    "        best_attribute = choose_best_decision_attribute(examples, attributes, bin_targets, threshold)\n",
    "        if best_attribute == 0:\n",
    "            return Tree(classification=int(majority_value(bin_targets)), pos=np.sum(bin_targets), neg=bin_targets.size-np.sum(bin_targets))\n",
    "        index = np.where(attributes==best_attribute)\n",
    "        index = index[0][0]\n",
    "        attributes = np.delete(attributes, index)\n",
    "\n",
    "        ex1 = examples[examples[:,index]==1]\n",
    "        ex0 = examples[examples[:,index]==0]\n",
    "\n",
    "        bt1 = bin_targets[examples[:,index]==1]\n",
    "        bt0 = bin_targets[examples[:,index]==0]\n",
    "\n",
    "        ex1 = np.delete(ex1,index,axis=1)\n",
    "        ex0 = np.delete(ex0,index,axis=1)\n",
    "\n",
    "        t1 = decision_tree_learning(ex1, attributes, bt1, threshold)\n",
    "\n",
    "        t0 = decision_tree_learning(ex0, attributes, bt0, threshold)\n",
    "\n",
    "        return Tree(best_attribute, [t1,t0], pos=np.sum(bin_targets), neg=bin_targets.size-np.sum(bin_targets))"
   ]
  },
  {
   "cell_type": "code",
   "execution_count": 46,
   "metadata": {
    "collapsed": false
   },
   "outputs": [
    {
     "data": {
      "image/png": "[encoded data removed]",
      "text/plain": [
       "<matplotlib.figure.Figure at 0x22bd39d2c88>"
      ]
     },
     "metadata": {},
     "output_type": "display_data"
    }
   ],
   "source": [
    "# example of save_tree_to_matlab_struct\n",
    "if __name__ == '__main__':\n",
    "    emotion = 'surprise'\n",
    "    examples, targets = load_clean_data()\n",
    "    binary_targets = to_binary_targets(targets, emotion)\n",
    "    attributes = np.array([x for x in range(examples.shape[1])])\n",
    "    tree = decision_tree_learning(examples, attributes, binary_targets)\n",
    "    save_tree_to_matlab_struct(tree, 'tree_surprise_mat.mat')\n",
    "    visualize_tree(tree,'tree_surprise_mat.png')"
   ]
  },
  {
   "cell_type": "markdown",
   "metadata": {},
   "source": [
    "Visualization"
   ]
  },
  {
   "cell_type": "code",
   "execution_count": 47,
   "metadata": {
    "collapsed": true
   },
   "outputs": [],
   "source": [
    "def tree_width(node):\n",
    "    if node.is_leaf():\n",
    "        return 1\n",
    "    return tree_width(node.kids[0]) + tree_width(node.kids[1])\n",
    "\n",
    "def tree_height(node):\n",
    "    if not node:\n",
    "        return 0\n",
    "    if not node.kids:\n",
    "        return 1\n",
    "    return max(tree_height(node.kids[0]), tree_height(node.kids[1])) + 1\n",
    "\n",
    "def draw_tree(draw, node, x, y):\n",
    "    if node.is_leaf():\n",
    "        draw.text((x-2,y), str(node.classification), (0,0,0))\n",
    "    else:\n",
    "        # false is the left branch\n",
    "        wt = tree_width(node.kids[1]) * 20\n",
    "        wf = tree_width(node.kids[0]) * 20\n",
    "        left = x - (wt + wf)/2\n",
    "        right = x + (wt + wf)/2\n",
    "        draw.text((x-2,y-1), str(node.op), (0,0,0))\n",
    "        draw.line((x,y,left+wf/2,y+30), fill=(255,0,0))\n",
    "        draw.line((x,y,right-wt/2,y+30), fill=(255,0,0))\n",
    "        draw_tree(draw, node.kids[0], left+wf/2, y+30)\n",
    "        draw_tree(draw, node.kids[1], right-wt/2, y+30)\n",
    "\n",
    "def visualize_tree(tree, filename='tree.png'):\n",
    "    w = tree_width(tree) * 20\n",
    "    h = tree_height(tree) * 30 + 10\n",
    "    img = Image.new('RGB', (w,h), (255,255,255))\n",
    "    draw = ImageDraw.Draw(img)\n",
    "    draw_tree(draw, tree, w/2, 5)\n",
    "    img.save(filename,'PNG')\n",
    "    plt.imshow(img)\n",
    "    plt.show()"
   ]
  },
  {
   "cell_type": "markdown",
   "metadata": {},
   "source": [
    "Visualization example"
   ]
  },
  {
   "cell_type": "code",
   "execution_count": 48,
   "metadata": {
    "collapsed": false
   },
   "outputs": [
    {
     "data": {
      "image/png": "[encoded data removed]",
      "text/plain": [
       "<matplotlib.figure.Figure at 0x22bd0c93eb8>"
      ]
     },
     "metadata": {},
     "output_type": "display_data"
    },
    {
     "data": {
      "image/png": "[encoded data removed]",
      "text/plain": [
       "<matplotlib.figure.Figure at 0x22bd3929be0>"
      ]
     },
     "metadata": {},
     "output_type": "display_data"
    },
    {
     "data": {
      "image/png": "[encoded data removed]",
      "text/plain": [
       "<matplotlib.figure.Figure at 0x22bd329b518>"
      ]
     },
     "metadata": {},
     "output_type": "display_data"
    },
    {
     "data": {
      "image/png": "[encoded data removed]",
      "text/plain": [
       "<matplotlib.figure.Figure at 0x22bd39a38d0>"
      ]
     },
     "metadata": {},
     "output_type": "display_data"
    },
    {
     "data": {
      "image/png": "[encoded data removed]",
      "text/plain": [
       "<matplotlib.figure.Figure at 0x22bd329be10>"
      ]
     },
     "metadata": {},
     "output_type": "display_data"
    },
    {
     "data": {
      "image/png": "[encoded data removed]",
      "text/plain": [
       "<matplotlib.figure.Figure at 0x22bd3fe72e8>"
      ]
     },
     "metadata": {},
     "output_type": "display_data"
    }
   ],
   "source": [
    "# NOTE: the visualization is saved to tree.jpg file in the directory where this notebook is,\n",
    "#       it has bigger size\n",
    "if __name__ == '__main__':\n",
    "    thresholds = [0.04,0.07,0.05,0.05,0.07,0.04]\n",
    "    for i in range(6):\n",
    "        label=i+1\n",
    "        emotion = label_to_string(label)\n",
    "        examples, targets = load_clean_data()\n",
    "        binary_targets = to_binary_targets(targets, emotion)\n",
    "        attributes = np.array(['AU_' + str(x+1) for x in range(examples.shape[1])])\n",
    "        tree = decision_tree_learning(examples, attributes, binary_targets,threshold=thresholds[i])\n",
    "        visualize_tree(tree,'tree_'+label_to_string(i+1)+'.png')"
   ]
  },
  {
   "cell_type": "markdown",
   "metadata": {
    "collapsed": false
   },
   "source": [
    "Cross-validation"
   ]
  },
  {
   "cell_type": "code",
   "execution_count": 49,
   "metadata": {
    "collapsed": true
   },
   "outputs": [],
   "source": [
    "#Tests one tree, returns depth of classification and classification\n",
    "def classify(tree, features, depth=0):\n",
    "    if tree.classification != None:\n",
    "        return [tree.classification, depth+1]\n",
    "    if features[tree.op-1]==1:\n",
    "        return classify(tree.kids[0], features, depth+1)\n",
    "    else:\n",
    "        return classify(tree.kids[1], features, depth+1)\n",
    "\n",
    "# testTrees(T,x2) from the specs, but named test_trees for style\n",
    "#Tests set of trained trees T on x2\n",
    "def test_trees(T, x2, random=0):\n",
    "    L=[]\n",
    "    for index in range(0,x2.shape[0]):\n",
    "        depths_pos = []\n",
    "        out_pos = []\n",
    "        depths_neg = []\n",
    "        out_neg = []\n",
    "        for t_num in range(0,T.size):\n",
    "            test = classify(T[t_num],x2[index])\n",
    "            \n",
    "            if test[0]==1:\n",
    "                depths_pos.append(test[1])\n",
    "                out_pos.append(t_num+1)\n",
    "            else:\n",
    "                depths_neg.append(test[1])\n",
    "                out_neg.append(t_num+1)\n",
    "        if random:\n",
    "            import random\n",
    "            if len(out_pos)==0:\n",
    "                output=random.randint(1, 6)\n",
    "            else:\n",
    "                output=out_pos[random.randint(0,len(out_pos)-1)]\n",
    "        else:\n",
    "            if len(out_pos)==0:\n",
    "                output = out_neg[depths_neg.index(max(depths_neg))]\n",
    "            else:\n",
    "                output = out_pos[depths_pos.index(min(depths_pos))]\n",
    "        L.append(output)\n",
    "    return L"
   ]
  },
  {
   "cell_type": "markdown",
   "metadata": {},
   "source": [
    "Confusion matrix"
   ]
  },
  {
   "cell_type": "code",
   "execution_count": 50,
   "metadata": {
    "collapsed": true
   },
   "outputs": [],
   "source": [
    "#Creating confusion matrix\n",
    "\n",
    "def confusion_matrix_10_cross(examples, targets, threshold=[0,0,0,0,0,0], prune=0,random=0):\n",
    "    k = 10\n",
    "    N = len(targets)\n",
    "    foldN = N // k\n",
    "    confusion_matrix = np.zeros((6,6), dtype=np.int)\n",
    "\n",
    "    #i = ith cross-validation run\n",
    "    for i in range(k):\n",
    "        aux_x = np.vstack((examples[:i*foldN, :], examples[(i+1)*foldN:, :]))\n",
    "        aux_y = np.vstack((targets[:i*foldN, :], targets[(i+1)*foldN:, :]))\n",
    "        if prune:\n",
    "            import random\n",
    "            valid_fold = random.randint(0,k-4)\n",
    "            train_x = np.vstack((aux_x[:valid_fold*foldN, :], aux_x[(valid_fold+3)*foldN:, :]))\n",
    "            train_y = np.vstack((aux_y[:valid_fold*foldN, :], aux_y[(valid_fold+3)*foldN:, :]))\n",
    "            valid_x = aux_x[valid_fold*foldN:(valid_fold+3)*foldN, :]\n",
    "            valid_y = aux_y[valid_fold*foldN:(valid_fold+3)*foldN, :]\n",
    "        else:\n",
    "            train_x=aux_x\n",
    "            train_y=aux_y\n",
    "            \n",
    "        test_x = examples[i*foldN:(i+1)*foldN, :]\n",
    "        test_y = targets[i*foldN:(i+1)*foldN, :]\n",
    "        \n",
    "        attributes = np.arange(1, examples.shape[1]+1)\n",
    "\n",
    "        #Training on train data\n",
    "        L=[]\n",
    "        for i in range(1,7):\n",
    "            tree = decision_tree_learning(train_x, attributes, to_binary_targets(train_y,i), threshold[i-1])\n",
    "            if prune:\n",
    "                tree = prune_tree(tree, valid_x, to_binary_targets(valid_y,i))\n",
    "            L.append(tree)\n",
    "        T = np.array(L)\n",
    "\n",
    "        results = test_trees(T, test_x, random)\n",
    "\n",
    "        for i in range(0, test_y.size):\n",
    "            confusion_matrix[test_y[i] - 1, results[i] - 1]+=1\n",
    "            \n",
    "    return confusion_matrix"
   ]
  },
  {
   "cell_type": "markdown",
   "metadata": {},
   "source": [
    "Model accuracy depending on threshold"
   ]
  },
  {
   "cell_type": "code",
   "execution_count": 13,
   "metadata": {
    "collapsed": false
   },
   "outputs": [
    {
     "name": "stdout",
     "output_type": "stream",
     "text": [
      "[ 0.    0.01  0.02  0.03  0.04  0.05  0.06  0.07  0.08  0.09  0.1   0.11\n",
      "  0.12  0.13  0.14  0.15  0.16  0.17  0.18  0.19]\n",
      "[ 0.75   0.757  0.768  0.784  0.79   0.795  0.79   0.778  0.734  0.71\n",
      "  0.707  0.701  0.687  0.633  0.615  0.616  0.615  0.602  0.59   0.572]\n",
      "[ 0.25   0.243  0.232  0.216  0.21   0.205  0.21   0.222  0.266  0.29\n",
      "  0.293  0.299  0.313  0.367  0.385  0.384  0.385  0.398  0.41   0.428]\n"
     ]
    },
    {
     "data": {
      "image/png": "[encoded data removed]",
      "text/plain": [
       "<matplotlib.figure.Figure at 0x7f1d42a54f28>"
      ]
     },
     "metadata": {},
     "output_type": "display_data"
    },
    {
     "data": {
      "image/png": "[encoded data removed]",
      "text/plain": [
       "<matplotlib.figure.Figure at 0x7f1d42a4df60>"
      ]
     },
     "metadata": {},
     "output_type": "display_data"
    }
   ],
   "source": [
    "if __name__ == '__main__':\n",
    "    xs = []\n",
    "    ys = []\n",
    "    er = []\n",
    "    x, y = load_clean_data()\n",
    "    \n",
    "    for i in range(20):\n",
    "        cm = confusion_matrix_10_cross(x,y,prune=0,threshold=[i*0.01,i*0.01,i*0.01,i*0.01,i*0.01,i*0.01])\n",
    "        xs.append(i*0.01)\n",
    "        ys.append((cm[0,0]+cm[1,1]+cm[2,2]+cm[3,3]+cm[4,4]+cm[5,5])/np.sum(cm))\n",
    "        er.append(1-ys[i])\n",
    "    xs=np.array(xs)\n",
    "    ys=np.array(ys)\n",
    "    er=np.array(er)\n",
    "    print(xs)\n",
    "    print(ys)\n",
    "    print(er)\n",
    "    import matplotlib.pyplot as plt\n",
    "       \n",
    "    plt.scatter(xs,ys)\n",
    "    plt.plot(xs,ys)\n",
    "    plt.ylabel('Accuracy')\n",
    "    plt.xlabel('Threshold')\n",
    "    plt.savefig('figure.png')\n",
    "    plt.show()\n",
    "    plt.clf()\n",
    "    \n",
    "    plt.scatter(xs,er)\n",
    "    plt.plot(xs,er)\n",
    "    plt.ylabel('Error')\n",
    "    plt.xlabel('Threshold')\n",
    "    plt.savefig('figure2.png')\n",
    "    plt.show()"
   ]
  },
  {
   "cell_type": "markdown",
   "metadata": {
    "collapsed": false
   },
   "source": [
    "Crossvalidation of one tree"
   ]
  },
  {
   "cell_type": "code",
   "execution_count": 51,
   "metadata": {
    "collapsed": false
   },
   "outputs": [],
   "source": [
    "# TODO : this is not used, delete later\n",
    "def crossvalidate_tree(examples, targets, emotion, threshold=0, random=0):\n",
    "    k = 10\n",
    "    N = len(targets)\n",
    "    foldN = N // k\n",
    "    precision=[]\n",
    "    #i = ith cross-validation run\n",
    "    for i in range(k):\n",
    "        train_x = np.vstack((examples[:i*foldN, :], examples[(i+1)*foldN:, :]))\n",
    "        train_y = np.vstack((targets[:i*foldN, :], targets[(i+1)*foldN:, :]))\n",
    "                   \n",
    "        test_x = examples[i*foldN:(i+1)*foldN, :]\n",
    "        test_y = targets[i*foldN:(i+1)*foldN, :]\n",
    "        \n",
    "        attributes = np.arange(1, examples.shape[1]+1)\n",
    "\n",
    "        #Training on train data\n",
    "        tree = decision_tree_learning(train_x, attributes, to_binary_targets(train_y,emotion), threshold)\n",
    "        \n",
    "        counter = 0\n",
    "        for i in range(test_y.size):\n",
    "            if classify(tree, test_x[i])[0]==to_binary_targets(test_y,emotion)[i]:\n",
    "                counter+=1\n",
    "        precision.append(counter/test_y.size)\n",
    "        \n",
    "\n",
    "    return sum(precision)/len(precision)"
   ]
  },
  {
   "cell_type": "code",
   "execution_count": 52,
   "metadata": {
    "collapsed": false
   },
   "outputs": [],
   "source": [
    "def classification_rate_from_confusion_matrix(cm):\n",
    "    if cm.shape[0] != cm.shape[1]:\n",
    "        print('ERROR: confusion matrix should be a square matrix')\n",
    "        return -1\n",
    "    temp = 0\n",
    "    for i in range(cm.shape[0]):\n",
    "        temp += cm[i,i]\n",
    "    return temp/np.sum(cm)\n",
    "\n",
    "# returns an array with precision per class\n",
    "def precision_from_confusion_matrix(cm):\n",
    "    if cm.shape[0] != cm.shape[1]:\n",
    "        print('ERROR: confusion matrix should be a square matrix')\n",
    "        return -1\n",
    "    res = []\n",
    "    for i in range(cm.shape[0]):\n",
    "        temp = 0\n",
    "        for j in range(cm.shape[0]):\n",
    "            temp += cm[j,i]\n",
    "        res.append(cm[i,i]/temp)\n",
    "    return np.array(res)\n",
    "\n",
    "# returns an array with recall per class\n",
    "def recall_from_confusion_matrix(cm):\n",
    "    if cm.shape[0] != cm.shape[1]:\n",
    "        print('ERROR: confusion matrix should be a square matrix')\n",
    "        return -1\n",
    "    res = []\n",
    "    for i in range(cm.shape[0]):\n",
    "        temp = 0\n",
    "        for j in range(cm.shape[0]):\n",
    "            temp += cm[i,j]\n",
    "        res.append(cm[i,i]/temp)\n",
    "    return np.array(res)\n",
    "\n",
    "def f1_from_confusion_matrix(cm):\n",
    "    precisions = precision_from_confusion_matrix(cm)\n",
    "    recalls = recall_from_confusion_matrix(cm)\n",
    "    return np.array(list((2*p*r)/(p+r) for (p,r) in zip(precisions, recalls)))"
   ]
  },
  {
   "cell_type": "code",
   "execution_count": 26,
   "metadata": {
    "collapsed": false
   },
   "outputs": [
    {
     "name": "stdout",
     "output_type": "stream",
     "text": [
      "== Model with optimized thresholds, selection depending on depth ==\n",
      "[[106   6   3   4  11   1]\n",
      " [ 15 163   2   5  11   2]\n",
      " [  3   4  90   3   2  16]\n",
      " [  0   7   0 200   3   5]\n",
      " [ 20  12   5   8  74  13]\n",
      " [  2   6  12   6   5 175]]\n",
      "Classification rate: 0.808\n",
      "Precision per class: [ 0.7260274   0.82323232  0.80357143  0.88495575  0.69811321  0.8254717 ]\n",
      "Recall per class: [ 0.80916031  0.82323232  0.76271186  0.93023256  0.56060606  0.84951456]\n",
      "F1 per class: [ 0.76534296  0.82323232  0.7826087   0.90702948  0.62184874  0.83732057]\n",
      "===\n",
      "\n",
      "== Model with no thresholds, selection depending on depth ==\n",
      "[[ 89  19   4   4  13   2]\n",
      " [ 18 150   1  10  12   7]\n",
      " [  4   6  88   3   3  14]\n",
      " [  1  12   3 183  11   5]\n",
      " [ 25  16   7   8  72   4]\n",
      " [  3   5  15   6   9 168]]\n",
      "Classification rate: 0.75\n",
      "Precision per class: [ 0.63571429  0.72115385  0.74576271  0.85514019  0.6         0.84      ]\n",
      "Recall per class: [ 0.67938931  0.75757576  0.74576271  0.85116279  0.54545455  0.81553398]\n",
      "F1 per class: [ 0.65682657  0.73891626  0.74576271  0.85314685  0.57142857  0.82758621]\n",
      "===\n",
      "\n",
      "== Model with no thresholds, random selection ==\n",
      "[[ 87  12   7   7  13   5]\n",
      " [ 16 136   6  13  17  10]\n",
      " [  9   4  85   2   5  13]\n",
      " [  2  11   4 177  14   7]\n",
      " [ 22  14   9   8  72   7]\n",
      " [  3   7  16   6  12 162]]\n",
      "Classification rate: 0.719\n",
      "Precision per class: [ 0.62589928  0.73913043  0.66929134  0.83098592  0.54135338  0.79411765]\n",
      "Recall per class: [ 0.66412214  0.68686869  0.72033898  0.82325581  0.54545455  0.78640777]\n",
      "F1 per class: [ 0.64444444  0.71204188  0.69387755  0.8271028   0.54339623  0.7902439 ]\n",
      "===\n"
     ]
    }
   ],
   "source": [
    "if __name__ == '__main__':\n",
    "    \n",
    "    x, y = load_clean_data()\n",
    "         \n",
    "    print('== Model with optimized thresholds, selection depending on depth ==')\n",
    "    cm = confusion_matrix_10_cross(x,y,prune=0,threshold=[0.04,0.07,0.05,0.05,0.07,0.04])\n",
    "    print(cm)\n",
    "    print('Classification rate: ' + str(classification_rate_from_confusion_matrix(cm)))\n",
    "    print('Precision per class: ' + str(precision_from_confusion_matrix(cm)))\n",
    "    print('Recall per class: ' + str(recall_from_confusion_matrix(cm)))\n",
    "    print('F1 per class: ' + str(f1_from_confusion_matrix(cm)))\n",
    "    print('===')\n",
    "    print()\n",
    "    \n",
    "    print('== Model with no thresholds, selection depending on depth ==')\n",
    "    cm = confusion_matrix_10_cross(x,y,prune=0)\n",
    "    print(cm)\n",
    "    print('Classification rate: ' + str(classification_rate_from_confusion_matrix(cm)))\n",
    "    print('Precision per class: ' + str(precision_from_confusion_matrix(cm)))\n",
    "    print('Recall per class: ' + str(recall_from_confusion_matrix(cm)))\n",
    "    print('F1 per class: ' + str(f1_from_confusion_matrix(cm)))\n",
    "    print('===')\n",
    "    print()\n",
    "    \n",
    "    print('== Model with no thresholds, random selection ==')\n",
    "    cm = confusion_matrix_10_cross(x,y,prune=0,random=1)\n",
    "    print(cm)\n",
    "    print('Classification rate: ' + str(classification_rate_from_confusion_matrix(cm)))\n",
    "    print('Precision per class: ' + str(precision_from_confusion_matrix(cm)))\n",
    "    print('Recall per class: ' + str(recall_from_confusion_matrix(cm)))\n",
    "    print('F1 per class: ' + str(f1_from_confusion_matrix(cm)))\n",
    "    print('===')"
   ]
  }
 ],
 "metadata": {
  "kernelspec": {
   "display_name": "Python 3",
   "language": "python",
   "name": "python3"
  },
  "language_info": {
   "codemirror_mode": {
    "name": "ipython",
    "version": 3.0
   },
   "file_extension": ".py",
   "mimetype": "text/x-python",
   "name": "python",
   "nbconvert_exporter": "python",
   "pygments_lexer": "ipython3",
   "version": "3.4.3"
  }
 },
 "nbformat": 4,
 "nbformat_minor": 0
}